{
  "nbformat": 4,
  "nbformat_minor": 0,
  "metadata": {
    "colab": {
      "name": "Project1_Bike sharing dataset.ipynb",
      "provenance": [],
      "include_colab_link": true
    },
    "kernelspec": {
      "name": "python3",
      "display_name": "Python 3"
    },
    "language_info": {
      "name": "python"
    }
  },
  "cells": [
    {
      "cell_type": "markdown",
      "metadata": {
        "id": "view-in-github",
        "colab_type": "text"
      },
      "source": [
        "<a href=\"https://colab.research.google.com/github/SvetlanaZap/SvetlanaZap.github.io/blob/master/Project1_Bike_sharing_dataset.ipynb\" target=\"_parent\"><img src=\"https://colab.research.google.com/assets/colab-badge.svg\" alt=\"Open In Colab\"/></a>"
      ]
    },
    {
      "cell_type": "markdown",
      "metadata": {
        "id": "P_q_Vqnd9Vk6"
      },
      "source": [
        "# Bike Sharing dataset\n"
      ]
    },
    {
      "cell_type": "code",
      "metadata": {
        "id": "XZCiFo3u5shP"
      },
      "source": [
        "#@title Imports\n",
        "import pandas as pd\n",
        "import numpy as np\n",
        "import matplotlib as plt\n",
        "import seaborn as sns\n",
        "import sklearn.linear_model as linear_module"
      ],
      "execution_count": 3,
      "outputs": []
    },
    {
      "cell_type": "code",
      "metadata": {
        "colab": {
          "base_uri": "https://localhost:8080/"
        },
        "cellView": "form",
        "id": "jtFyGq8ly97l",
        "outputId": "e74f9b2d-b19c-485c-965b-7c42afc075f2"
      },
      "source": [
        "#@title Download the dataset\n",
        "!wget https://archive.ics.uci.edu/ml/machine-learning-databases/00275/Bike-Sharing-Dataset.zip"
      ],
      "execution_count": 77,
      "outputs": [
        {
          "output_type": "stream",
          "text": [
            "--2021-06-04 01:03:03--  https://archive.ics.uci.edu/ml/machine-learning-databases/00275/Bike-Sharing-Dataset.zip\n",
            "Resolving archive.ics.uci.edu (archive.ics.uci.edu)... 128.195.10.252\n",
            "Connecting to archive.ics.uci.edu (archive.ics.uci.edu)|128.195.10.252|:443... connected.\n",
            "HTTP request sent, awaiting response... 200 OK\n",
            "Length: 279992 (273K) [application/x-httpd-php]\n",
            "Saving to: ‘Bike-Sharing-Dataset.zip.1’\n",
            "\n",
            "Bike-Sharing-Datase 100%[===================>] 273.43K  1.04MB/s    in 0.3s    \n",
            "\n",
            "2021-06-04 01:03:03 (1.04 MB/s) - ‘Bike-Sharing-Dataset.zip.1’ saved [279992/279992]\n",
            "\n"
          ],
          "name": "stdout"
        }
      ]
    },
    {
      "cell_type": "code",
      "metadata": {
        "colab": {
          "base_uri": "https://localhost:8080/"
        },
        "collapsed": true,
        "id": "3zqeH4oqzBTh",
        "outputId": "5331fc48-82c8-49aa-c7e7-5d70c9fa890e"
      },
      "source": [
        "#@title\n",
        "!unzip Bike-Sharing-Dataset.zip"
      ],
      "execution_count": 78,
      "outputs": [
        {
          "output_type": "stream",
          "text": [
            "Archive:  Bike-Sharing-Dataset.zip\n",
            "replace Readme.txt? [y]es, [n]o, [A]ll, [N]one, [r]ename: n\n",
            "replace day.csv? [y]es, [n]o, [A]ll, [N]one, [r]ename: n\n",
            "replace hour.csv? [y]es, [n]o, [A]ll, [N]one, [r]ename: n\n"
          ],
          "name": "stdout"
        }
      ]
    },
    {
      "cell_type": "code",
      "metadata": {
        "colab": {
          "base_uri": "https://localhost:8080/"
        },
        "cellView": "form",
        "id": "B3g_ll8MzhEd",
        "outputId": "4d9973f1-f1ea-493b-a4f7-cf2d90f0055b"
      },
      "source": [
        "#@title The description of the data.\n",
        "!cat Readme.txt"
      ],
      "execution_count": 4,
      "outputs": [
        {
          "output_type": "stream",
          "text": [
            "==========================================\r\n",
            "Bike Sharing Dataset\r\n",
            "==========================================\r\n",
            "\r\n",
            "Hadi Fanaee-T\r\n",
            "\r\n",
            "Laboratory of Artificial Intelligence and Decision Support (LIAAD), University of Porto\r\n",
            "INESC Porto, Campus da FEUP\r\n",
            "Rua Dr. Roberto Frias, 378\r\n",
            "4200 - 465 Porto, Portugal\r\n",
            "\r\n",
            "\r\n",
            "=========================================\r\n",
            "Background \r\n",
            "=========================================\r\n",
            "\r\n",
            "Bike sharing systems are new generation of traditional bike rentals where whole process from membership, rental and return \r\n",
            "back has become automatic. Through these systems, user is able to easily rent a bike from a particular position and return \r\n",
            "back at another position. Currently, there are about over 500 bike-sharing programs around the world which is composed of \r\n",
            "over 500 thousands bicycles. Today, there exists great interest in these systems due to their important role in traffic, \r\n",
            "environmental and health issues. \r\n",
            "\r\n",
            "Apart from interesting real world applications of bike sharing systems, the characteristics of data being generated by\r\n",
            "these systems make them attractive for the research. Opposed to other transport services such as bus or subway, the duration\r\n",
            "of travel, departure and arrival position is explicitly recorded in these systems. This feature turns bike sharing system into\r\n",
            "a virtual sensor network that can be used for sensing mobility in the city. Hence, it is expected that most of important\r\n",
            "events in the city could be detected via monitoring these data.\r\n",
            "\r\n",
            "=========================================\r\n",
            "Data Set\r\n",
            "=========================================\r\n",
            "Bike-sharing rental process is highly correlated to the environmental and seasonal settings. For instance, weather conditions,\r\n",
            "precipitation, day of week, season, hour of the day, etc. can affect the rental behaviors. The core data set is related to  \r\n",
            "the two-year historical log corresponding to years 2011 and 2012 from Capital Bikeshare system, Washington D.C., USA which is \r\n",
            "publicly available in http://capitalbikeshare.com/system-data. We aggregated the data on two hourly and daily basis and then \r\n",
            "extracted and added the corresponding weather and seasonal information. Weather information are extracted from http://www.freemeteo.com. \r\n",
            "\r\n",
            "=========================================\r\n",
            "Associated tasks\r\n",
            "=========================================\r\n",
            "\r\n",
            "\t- Regression: \r\n",
            "\t\tPredication of bike rental count hourly or daily based on the environmental and seasonal settings.\r\n",
            "\t\r\n",
            "\t- Event and Anomaly Detection:  \r\n",
            "\t\tCount of rented bikes are also correlated to some events in the town which easily are traceable via search engines.\r\n",
            "\t\tFor instance, query like \"2012-10-30 washington d.c.\" in Google returns related results to Hurricane Sandy. Some of the important events are \r\n",
            "\t\tidentified in [1]. Therefore the data can be used for validation of anomaly or event detection algorithms as well.\r\n",
            "\r\n",
            "\r\n",
            "=========================================\r\n",
            "Files\r\n",
            "=========================================\r\n",
            "\r\n",
            "\t- Readme.txt\r\n",
            "\t- hour.csv : bike sharing counts aggregated on hourly basis. Records: 17379 hours\r\n",
            "\t- day.csv - bike sharing counts aggregated on daily basis. Records: 731 days\r\n",
            "\r\n",
            "\t\r\n",
            "=========================================\r\n",
            "Dataset characteristics\r\n",
            "=========================================\t\r\n",
            "Both hour.csv and day.csv have the following fields, except hr which is not available in day.csv\r\n",
            "\t\r\n",
            "\t- instant: record index\r\n",
            "\t- dteday : date\r\n",
            "\t- season : season (1:springer, 2:summer, 3:fall, 4:winter)\r\n",
            "\t- yr : year (0: 2011, 1:2012)\r\n",
            "\t- mnth : month ( 1 to 12)\r\n",
            "\t- hr : hour (0 to 23)\r\n",
            "\t- holiday : weather day is holiday or not (extracted from http://dchr.dc.gov/page/holiday-schedule)\r\n",
            "\t- weekday : day of the week\r\n",
            "\t- workingday : if day is neither weekend nor holiday is 1, otherwise is 0.\r\n",
            "\t+ weathersit : \r\n",
            "\t\t- 1: Clear, Few clouds, Partly cloudy, Partly cloudy\r\n",
            "\t\t- 2: Mist + Cloudy, Mist + Broken clouds, Mist + Few clouds, Mist\r\n",
            "\t\t- 3: Light Snow, Light Rain + Thunderstorm + Scattered clouds, Light Rain + Scattered clouds\r\n",
            "\t\t- 4: Heavy Rain + Ice Pallets + Thunderstorm + Mist, Snow + Fog\r\n",
            "\t- temp : Normalized temperature in Celsius. The values are divided to 41 (max)\r\n",
            "\t- atemp: Normalized feeling temperature in Celsius. The values are divided to 50 (max)\r\n",
            "\t- hum: Normalized humidity. The values are divided to 100 (max)\r\n",
            "\t- windspeed: Normalized wind speed. The values are divided to 67 (max)\r\n",
            "\t- casual: count of casual users\r\n",
            "\t- registered: count of registered users\r\n",
            "\t- cnt: count of total rental bikes including both casual and registered\r\n",
            "\t\r\n",
            "=========================================\r\n",
            "License\r\n",
            "=========================================\r\n",
            "Use of this dataset in publications must be cited to the following publication:\r\n",
            "\r\n",
            "[1] Fanaee-T, Hadi, and Gama, Joao, \"Event labeling combining ensemble detectors and background knowledge\", Progress in Artificial Intelligence (2013): pp. 1-15, Springer Berlin Heidelberg, doi:10.1007/s13748-013-0040-3.\r\n",
            "\r\n",
            "@article{\r\n",
            "\tyear={2013},\r\n",
            "\tissn={2192-6352},\r\n",
            "\tjournal={Progress in Artificial Intelligence},\r\n",
            "\tdoi={10.1007/s13748-013-0040-3},\r\n",
            "\ttitle={Event labeling combining ensemble detectors and background knowledge},\r\n",
            "\turl={http://dx.doi.org/10.1007/s13748-013-0040-3},\r\n",
            "\tpublisher={Springer Berlin Heidelberg},\r\n",
            "\tkeywords={Event labeling; Event detection; Ensemble learning; Background knowledge},\r\n",
            "\tauthor={Fanaee-T, Hadi and Gama, Joao},\r\n",
            "\tpages={1-15}\r\n",
            "}\r\n",
            "\r\n",
            "=========================================\r\n",
            "Contact\r\n",
            "=========================================\r\n",
            "\t\r\n",
            "For further information about this dataset please contact Hadi Fanaee-T (hadi.fanaee@fe.up.pt)\r\n"
          ],
          "name": "stdout"
        }
      ]
    },
    {
      "cell_type": "code",
      "metadata": {
        "colab": {
          "base_uri": "https://localhost:8080/",
          "height": 450
        },
        "id": "FK-tt9bwzLk2",
        "outputId": "cecc797b-b56c-425e-b685-db4de1c8ae8f"
      },
      "source": [
        "df = pd.read_csv('hour.csv')\n",
        "df = df.set_index('instant', drop = True)\n",
        "df"
      ],
      "execution_count": 4,
      "outputs": [
        {
          "output_type": "execute_result",
          "data": {
            "text/html": [
              "<div>\n",
              "<style scoped>\n",
              "    .dataframe tbody tr th:only-of-type {\n",
              "        vertical-align: middle;\n",
              "    }\n",
              "\n",
              "    .dataframe tbody tr th {\n",
              "        vertical-align: top;\n",
              "    }\n",
              "\n",
              "    .dataframe thead th {\n",
              "        text-align: right;\n",
              "    }\n",
              "</style>\n",
              "<table border=\"1\" class=\"dataframe\">\n",
              "  <thead>\n",
              "    <tr style=\"text-align: right;\">\n",
              "      <th></th>\n",
              "      <th>dteday</th>\n",
              "      <th>season</th>\n",
              "      <th>yr</th>\n",
              "      <th>mnth</th>\n",
              "      <th>hr</th>\n",
              "      <th>holiday</th>\n",
              "      <th>weekday</th>\n",
              "      <th>workingday</th>\n",
              "      <th>weathersit</th>\n",
              "      <th>temp</th>\n",
              "      <th>atemp</th>\n",
              "      <th>hum</th>\n",
              "      <th>windspeed</th>\n",
              "      <th>casual</th>\n",
              "      <th>registered</th>\n",
              "      <th>cnt</th>\n",
              "    </tr>\n",
              "    <tr>\n",
              "      <th>instant</th>\n",
              "      <th></th>\n",
              "      <th></th>\n",
              "      <th></th>\n",
              "      <th></th>\n",
              "      <th></th>\n",
              "      <th></th>\n",
              "      <th></th>\n",
              "      <th></th>\n",
              "      <th></th>\n",
              "      <th></th>\n",
              "      <th></th>\n",
              "      <th></th>\n",
              "      <th></th>\n",
              "      <th></th>\n",
              "      <th></th>\n",
              "      <th></th>\n",
              "    </tr>\n",
              "  </thead>\n",
              "  <tbody>\n",
              "    <tr>\n",
              "      <th>1</th>\n",
              "      <td>2011-01-01</td>\n",
              "      <td>1</td>\n",
              "      <td>0</td>\n",
              "      <td>1</td>\n",
              "      <td>0</td>\n",
              "      <td>0</td>\n",
              "      <td>6</td>\n",
              "      <td>0</td>\n",
              "      <td>1</td>\n",
              "      <td>0.24</td>\n",
              "      <td>0.2879</td>\n",
              "      <td>0.81</td>\n",
              "      <td>0.0000</td>\n",
              "      <td>3</td>\n",
              "      <td>13</td>\n",
              "      <td>16</td>\n",
              "    </tr>\n",
              "    <tr>\n",
              "      <th>2</th>\n",
              "      <td>2011-01-01</td>\n",
              "      <td>1</td>\n",
              "      <td>0</td>\n",
              "      <td>1</td>\n",
              "      <td>1</td>\n",
              "      <td>0</td>\n",
              "      <td>6</td>\n",
              "      <td>0</td>\n",
              "      <td>1</td>\n",
              "      <td>0.22</td>\n",
              "      <td>0.2727</td>\n",
              "      <td>0.80</td>\n",
              "      <td>0.0000</td>\n",
              "      <td>8</td>\n",
              "      <td>32</td>\n",
              "      <td>40</td>\n",
              "    </tr>\n",
              "    <tr>\n",
              "      <th>3</th>\n",
              "      <td>2011-01-01</td>\n",
              "      <td>1</td>\n",
              "      <td>0</td>\n",
              "      <td>1</td>\n",
              "      <td>2</td>\n",
              "      <td>0</td>\n",
              "      <td>6</td>\n",
              "      <td>0</td>\n",
              "      <td>1</td>\n",
              "      <td>0.22</td>\n",
              "      <td>0.2727</td>\n",
              "      <td>0.80</td>\n",
              "      <td>0.0000</td>\n",
              "      <td>5</td>\n",
              "      <td>27</td>\n",
              "      <td>32</td>\n",
              "    </tr>\n",
              "    <tr>\n",
              "      <th>4</th>\n",
              "      <td>2011-01-01</td>\n",
              "      <td>1</td>\n",
              "      <td>0</td>\n",
              "      <td>1</td>\n",
              "      <td>3</td>\n",
              "      <td>0</td>\n",
              "      <td>6</td>\n",
              "      <td>0</td>\n",
              "      <td>1</td>\n",
              "      <td>0.24</td>\n",
              "      <td>0.2879</td>\n",
              "      <td>0.75</td>\n",
              "      <td>0.0000</td>\n",
              "      <td>3</td>\n",
              "      <td>10</td>\n",
              "      <td>13</td>\n",
              "    </tr>\n",
              "    <tr>\n",
              "      <th>5</th>\n",
              "      <td>2011-01-01</td>\n",
              "      <td>1</td>\n",
              "      <td>0</td>\n",
              "      <td>1</td>\n",
              "      <td>4</td>\n",
              "      <td>0</td>\n",
              "      <td>6</td>\n",
              "      <td>0</td>\n",
              "      <td>1</td>\n",
              "      <td>0.24</td>\n",
              "      <td>0.2879</td>\n",
              "      <td>0.75</td>\n",
              "      <td>0.0000</td>\n",
              "      <td>0</td>\n",
              "      <td>1</td>\n",
              "      <td>1</td>\n",
              "    </tr>\n",
              "    <tr>\n",
              "      <th>...</th>\n",
              "      <td>...</td>\n",
              "      <td>...</td>\n",
              "      <td>...</td>\n",
              "      <td>...</td>\n",
              "      <td>...</td>\n",
              "      <td>...</td>\n",
              "      <td>...</td>\n",
              "      <td>...</td>\n",
              "      <td>...</td>\n",
              "      <td>...</td>\n",
              "      <td>...</td>\n",
              "      <td>...</td>\n",
              "      <td>...</td>\n",
              "      <td>...</td>\n",
              "      <td>...</td>\n",
              "      <td>...</td>\n",
              "    </tr>\n",
              "    <tr>\n",
              "      <th>17375</th>\n",
              "      <td>2012-12-31</td>\n",
              "      <td>1</td>\n",
              "      <td>1</td>\n",
              "      <td>12</td>\n",
              "      <td>19</td>\n",
              "      <td>0</td>\n",
              "      <td>1</td>\n",
              "      <td>1</td>\n",
              "      <td>2</td>\n",
              "      <td>0.26</td>\n",
              "      <td>0.2576</td>\n",
              "      <td>0.60</td>\n",
              "      <td>0.1642</td>\n",
              "      <td>11</td>\n",
              "      <td>108</td>\n",
              "      <td>119</td>\n",
              "    </tr>\n",
              "    <tr>\n",
              "      <th>17376</th>\n",
              "      <td>2012-12-31</td>\n",
              "      <td>1</td>\n",
              "      <td>1</td>\n",
              "      <td>12</td>\n",
              "      <td>20</td>\n",
              "      <td>0</td>\n",
              "      <td>1</td>\n",
              "      <td>1</td>\n",
              "      <td>2</td>\n",
              "      <td>0.26</td>\n",
              "      <td>0.2576</td>\n",
              "      <td>0.60</td>\n",
              "      <td>0.1642</td>\n",
              "      <td>8</td>\n",
              "      <td>81</td>\n",
              "      <td>89</td>\n",
              "    </tr>\n",
              "    <tr>\n",
              "      <th>17377</th>\n",
              "      <td>2012-12-31</td>\n",
              "      <td>1</td>\n",
              "      <td>1</td>\n",
              "      <td>12</td>\n",
              "      <td>21</td>\n",
              "      <td>0</td>\n",
              "      <td>1</td>\n",
              "      <td>1</td>\n",
              "      <td>1</td>\n",
              "      <td>0.26</td>\n",
              "      <td>0.2576</td>\n",
              "      <td>0.60</td>\n",
              "      <td>0.1642</td>\n",
              "      <td>7</td>\n",
              "      <td>83</td>\n",
              "      <td>90</td>\n",
              "    </tr>\n",
              "    <tr>\n",
              "      <th>17378</th>\n",
              "      <td>2012-12-31</td>\n",
              "      <td>1</td>\n",
              "      <td>1</td>\n",
              "      <td>12</td>\n",
              "      <td>22</td>\n",
              "      <td>0</td>\n",
              "      <td>1</td>\n",
              "      <td>1</td>\n",
              "      <td>1</td>\n",
              "      <td>0.26</td>\n",
              "      <td>0.2727</td>\n",
              "      <td>0.56</td>\n",
              "      <td>0.1343</td>\n",
              "      <td>13</td>\n",
              "      <td>48</td>\n",
              "      <td>61</td>\n",
              "    </tr>\n",
              "    <tr>\n",
              "      <th>17379</th>\n",
              "      <td>2012-12-31</td>\n",
              "      <td>1</td>\n",
              "      <td>1</td>\n",
              "      <td>12</td>\n",
              "      <td>23</td>\n",
              "      <td>0</td>\n",
              "      <td>1</td>\n",
              "      <td>1</td>\n",
              "      <td>1</td>\n",
              "      <td>0.26</td>\n",
              "      <td>0.2727</td>\n",
              "      <td>0.65</td>\n",
              "      <td>0.1343</td>\n",
              "      <td>12</td>\n",
              "      <td>37</td>\n",
              "      <td>49</td>\n",
              "    </tr>\n",
              "  </tbody>\n",
              "</table>\n",
              "<p>17379 rows × 16 columns</p>\n",
              "</div>"
            ],
            "text/plain": [
              "             dteday  season  yr  mnth  ...  windspeed  casual  registered  cnt\n",
              "instant                                ...                                    \n",
              "1        2011-01-01       1   0     1  ...     0.0000       3          13   16\n",
              "2        2011-01-01       1   0     1  ...     0.0000       8          32   40\n",
              "3        2011-01-01       1   0     1  ...     0.0000       5          27   32\n",
              "4        2011-01-01       1   0     1  ...     0.0000       3          10   13\n",
              "5        2011-01-01       1   0     1  ...     0.0000       0           1    1\n",
              "...             ...     ...  ..   ...  ...        ...     ...         ...  ...\n",
              "17375    2012-12-31       1   1    12  ...     0.1642      11         108  119\n",
              "17376    2012-12-31       1   1    12  ...     0.1642       8          81   89\n",
              "17377    2012-12-31       1   1    12  ...     0.1642       7          83   90\n",
              "17378    2012-12-31       1   1    12  ...     0.1343      13          48   61\n",
              "17379    2012-12-31       1   1    12  ...     0.1343      12          37   49\n",
              "\n",
              "[17379 rows x 16 columns]"
            ]
          },
          "metadata": {
            "tags": []
          },
          "execution_count": 4
        }
      ]
    },
    {
      "cell_type": "code",
      "metadata": {
        "colab": {
          "base_uri": "https://localhost:8080/"
        },
        "id": "xXBJ6ENW8LXV",
        "outputId": "1fc5b689-3c27-4a16-e534-e059473679e5"
      },
      "source": [
        "df.shape"
      ],
      "execution_count": 5,
      "outputs": [
        {
          "output_type": "execute_result",
          "data": {
            "text/plain": [
              "(17379, 16)"
            ]
          },
          "metadata": {
            "tags": []
          },
          "execution_count": 5
        }
      ]
    },
    {
      "cell_type": "code",
      "metadata": {
        "colab": {
          "base_uri": "https://localhost:8080/",
          "height": 450
        },
        "id": "JrfSFIrX6UQJ",
        "outputId": "14a6c52d-0d97-457a-e739-ebc248473c30"
      },
      "source": [
        "day_df = pd.read_csv('day.csv')\n",
        "day_df = day_df.set_index('instant', drop = True)\n",
        "day_df"
      ],
      "execution_count": 6,
      "outputs": [
        {
          "output_type": "execute_result",
          "data": {
            "text/html": [
              "<div>\n",
              "<style scoped>\n",
              "    .dataframe tbody tr th:only-of-type {\n",
              "        vertical-align: middle;\n",
              "    }\n",
              "\n",
              "    .dataframe tbody tr th {\n",
              "        vertical-align: top;\n",
              "    }\n",
              "\n",
              "    .dataframe thead th {\n",
              "        text-align: right;\n",
              "    }\n",
              "</style>\n",
              "<table border=\"1\" class=\"dataframe\">\n",
              "  <thead>\n",
              "    <tr style=\"text-align: right;\">\n",
              "      <th></th>\n",
              "      <th>dteday</th>\n",
              "      <th>season</th>\n",
              "      <th>yr</th>\n",
              "      <th>mnth</th>\n",
              "      <th>holiday</th>\n",
              "      <th>weekday</th>\n",
              "      <th>workingday</th>\n",
              "      <th>weathersit</th>\n",
              "      <th>temp</th>\n",
              "      <th>atemp</th>\n",
              "      <th>hum</th>\n",
              "      <th>windspeed</th>\n",
              "      <th>casual</th>\n",
              "      <th>registered</th>\n",
              "      <th>cnt</th>\n",
              "    </tr>\n",
              "    <tr>\n",
              "      <th>instant</th>\n",
              "      <th></th>\n",
              "      <th></th>\n",
              "      <th></th>\n",
              "      <th></th>\n",
              "      <th></th>\n",
              "      <th></th>\n",
              "      <th></th>\n",
              "      <th></th>\n",
              "      <th></th>\n",
              "      <th></th>\n",
              "      <th></th>\n",
              "      <th></th>\n",
              "      <th></th>\n",
              "      <th></th>\n",
              "      <th></th>\n",
              "    </tr>\n",
              "  </thead>\n",
              "  <tbody>\n",
              "    <tr>\n",
              "      <th>1</th>\n",
              "      <td>2011-01-01</td>\n",
              "      <td>1</td>\n",
              "      <td>0</td>\n",
              "      <td>1</td>\n",
              "      <td>0</td>\n",
              "      <td>6</td>\n",
              "      <td>0</td>\n",
              "      <td>2</td>\n",
              "      <td>0.344167</td>\n",
              "      <td>0.363625</td>\n",
              "      <td>0.805833</td>\n",
              "      <td>0.160446</td>\n",
              "      <td>331</td>\n",
              "      <td>654</td>\n",
              "      <td>985</td>\n",
              "    </tr>\n",
              "    <tr>\n",
              "      <th>2</th>\n",
              "      <td>2011-01-02</td>\n",
              "      <td>1</td>\n",
              "      <td>0</td>\n",
              "      <td>1</td>\n",
              "      <td>0</td>\n",
              "      <td>0</td>\n",
              "      <td>0</td>\n",
              "      <td>2</td>\n",
              "      <td>0.363478</td>\n",
              "      <td>0.353739</td>\n",
              "      <td>0.696087</td>\n",
              "      <td>0.248539</td>\n",
              "      <td>131</td>\n",
              "      <td>670</td>\n",
              "      <td>801</td>\n",
              "    </tr>\n",
              "    <tr>\n",
              "      <th>3</th>\n",
              "      <td>2011-01-03</td>\n",
              "      <td>1</td>\n",
              "      <td>0</td>\n",
              "      <td>1</td>\n",
              "      <td>0</td>\n",
              "      <td>1</td>\n",
              "      <td>1</td>\n",
              "      <td>1</td>\n",
              "      <td>0.196364</td>\n",
              "      <td>0.189405</td>\n",
              "      <td>0.437273</td>\n",
              "      <td>0.248309</td>\n",
              "      <td>120</td>\n",
              "      <td>1229</td>\n",
              "      <td>1349</td>\n",
              "    </tr>\n",
              "    <tr>\n",
              "      <th>4</th>\n",
              "      <td>2011-01-04</td>\n",
              "      <td>1</td>\n",
              "      <td>0</td>\n",
              "      <td>1</td>\n",
              "      <td>0</td>\n",
              "      <td>2</td>\n",
              "      <td>1</td>\n",
              "      <td>1</td>\n",
              "      <td>0.200000</td>\n",
              "      <td>0.212122</td>\n",
              "      <td>0.590435</td>\n",
              "      <td>0.160296</td>\n",
              "      <td>108</td>\n",
              "      <td>1454</td>\n",
              "      <td>1562</td>\n",
              "    </tr>\n",
              "    <tr>\n",
              "      <th>5</th>\n",
              "      <td>2011-01-05</td>\n",
              "      <td>1</td>\n",
              "      <td>0</td>\n",
              "      <td>1</td>\n",
              "      <td>0</td>\n",
              "      <td>3</td>\n",
              "      <td>1</td>\n",
              "      <td>1</td>\n",
              "      <td>0.226957</td>\n",
              "      <td>0.229270</td>\n",
              "      <td>0.436957</td>\n",
              "      <td>0.186900</td>\n",
              "      <td>82</td>\n",
              "      <td>1518</td>\n",
              "      <td>1600</td>\n",
              "    </tr>\n",
              "    <tr>\n",
              "      <th>...</th>\n",
              "      <td>...</td>\n",
              "      <td>...</td>\n",
              "      <td>...</td>\n",
              "      <td>...</td>\n",
              "      <td>...</td>\n",
              "      <td>...</td>\n",
              "      <td>...</td>\n",
              "      <td>...</td>\n",
              "      <td>...</td>\n",
              "      <td>...</td>\n",
              "      <td>...</td>\n",
              "      <td>...</td>\n",
              "      <td>...</td>\n",
              "      <td>...</td>\n",
              "      <td>...</td>\n",
              "    </tr>\n",
              "    <tr>\n",
              "      <th>727</th>\n",
              "      <td>2012-12-27</td>\n",
              "      <td>1</td>\n",
              "      <td>1</td>\n",
              "      <td>12</td>\n",
              "      <td>0</td>\n",
              "      <td>4</td>\n",
              "      <td>1</td>\n",
              "      <td>2</td>\n",
              "      <td>0.254167</td>\n",
              "      <td>0.226642</td>\n",
              "      <td>0.652917</td>\n",
              "      <td>0.350133</td>\n",
              "      <td>247</td>\n",
              "      <td>1867</td>\n",
              "      <td>2114</td>\n",
              "    </tr>\n",
              "    <tr>\n",
              "      <th>728</th>\n",
              "      <td>2012-12-28</td>\n",
              "      <td>1</td>\n",
              "      <td>1</td>\n",
              "      <td>12</td>\n",
              "      <td>0</td>\n",
              "      <td>5</td>\n",
              "      <td>1</td>\n",
              "      <td>2</td>\n",
              "      <td>0.253333</td>\n",
              "      <td>0.255046</td>\n",
              "      <td>0.590000</td>\n",
              "      <td>0.155471</td>\n",
              "      <td>644</td>\n",
              "      <td>2451</td>\n",
              "      <td>3095</td>\n",
              "    </tr>\n",
              "    <tr>\n",
              "      <th>729</th>\n",
              "      <td>2012-12-29</td>\n",
              "      <td>1</td>\n",
              "      <td>1</td>\n",
              "      <td>12</td>\n",
              "      <td>0</td>\n",
              "      <td>6</td>\n",
              "      <td>0</td>\n",
              "      <td>2</td>\n",
              "      <td>0.253333</td>\n",
              "      <td>0.242400</td>\n",
              "      <td>0.752917</td>\n",
              "      <td>0.124383</td>\n",
              "      <td>159</td>\n",
              "      <td>1182</td>\n",
              "      <td>1341</td>\n",
              "    </tr>\n",
              "    <tr>\n",
              "      <th>730</th>\n",
              "      <td>2012-12-30</td>\n",
              "      <td>1</td>\n",
              "      <td>1</td>\n",
              "      <td>12</td>\n",
              "      <td>0</td>\n",
              "      <td>0</td>\n",
              "      <td>0</td>\n",
              "      <td>1</td>\n",
              "      <td>0.255833</td>\n",
              "      <td>0.231700</td>\n",
              "      <td>0.483333</td>\n",
              "      <td>0.350754</td>\n",
              "      <td>364</td>\n",
              "      <td>1432</td>\n",
              "      <td>1796</td>\n",
              "    </tr>\n",
              "    <tr>\n",
              "      <th>731</th>\n",
              "      <td>2012-12-31</td>\n",
              "      <td>1</td>\n",
              "      <td>1</td>\n",
              "      <td>12</td>\n",
              "      <td>0</td>\n",
              "      <td>1</td>\n",
              "      <td>1</td>\n",
              "      <td>2</td>\n",
              "      <td>0.215833</td>\n",
              "      <td>0.223487</td>\n",
              "      <td>0.577500</td>\n",
              "      <td>0.154846</td>\n",
              "      <td>439</td>\n",
              "      <td>2290</td>\n",
              "      <td>2729</td>\n",
              "    </tr>\n",
              "  </tbody>\n",
              "</table>\n",
              "<p>731 rows × 15 columns</p>\n",
              "</div>"
            ],
            "text/plain": [
              "             dteday  season  yr  mnth  ...  windspeed  casual  registered   cnt\n",
              "instant                                ...                                     \n",
              "1        2011-01-01       1   0     1  ...   0.160446     331         654   985\n",
              "2        2011-01-02       1   0     1  ...   0.248539     131         670   801\n",
              "3        2011-01-03       1   0     1  ...   0.248309     120        1229  1349\n",
              "4        2011-01-04       1   0     1  ...   0.160296     108        1454  1562\n",
              "5        2011-01-05       1   0     1  ...   0.186900      82        1518  1600\n",
              "...             ...     ...  ..   ...  ...        ...     ...         ...   ...\n",
              "727      2012-12-27       1   1    12  ...   0.350133     247        1867  2114\n",
              "728      2012-12-28       1   1    12  ...   0.155471     644        2451  3095\n",
              "729      2012-12-29       1   1    12  ...   0.124383     159        1182  1341\n",
              "730      2012-12-30       1   1    12  ...   0.350754     364        1432  1796\n",
              "731      2012-12-31       1   1    12  ...   0.154846     439        2290  2729\n",
              "\n",
              "[731 rows x 15 columns]"
            ]
          },
          "metadata": {
            "tags": []
          },
          "execution_count": 6
        }
      ]
    },
    {
      "cell_type": "code",
      "metadata": {
        "colab": {
          "base_uri": "https://localhost:8080/"
        },
        "id": "-Sk6S6-ztEGc",
        "outputId": "51070f42-8333-4188-cb35-6d78d501cb45"
      },
      "source": [
        "day_df.info()"
      ],
      "execution_count": 7,
      "outputs": [
        {
          "output_type": "stream",
          "text": [
            "<class 'pandas.core.frame.DataFrame'>\n",
            "Int64Index: 731 entries, 1 to 731\n",
            "Data columns (total 15 columns):\n",
            " #   Column      Non-Null Count  Dtype  \n",
            "---  ------      --------------  -----  \n",
            " 0   dteday      731 non-null    object \n",
            " 1   season      731 non-null    int64  \n",
            " 2   yr          731 non-null    int64  \n",
            " 3   mnth        731 non-null    int64  \n",
            " 4   holiday     731 non-null    int64  \n",
            " 5   weekday     731 non-null    int64  \n",
            " 6   workingday  731 non-null    int64  \n",
            " 7   weathersit  731 non-null    int64  \n",
            " 8   temp        731 non-null    float64\n",
            " 9   atemp       731 non-null    float64\n",
            " 10  hum         731 non-null    float64\n",
            " 11  windspeed   731 non-null    float64\n",
            " 12  casual      731 non-null    int64  \n",
            " 13  registered  731 non-null    int64  \n",
            " 14  cnt         731 non-null    int64  \n",
            "dtypes: float64(4), int64(10), object(1)\n",
            "memory usage: 91.4+ KB\n"
          ],
          "name": "stdout"
        }
      ]
    },
    {
      "cell_type": "code",
      "metadata": {
        "id": "yimg2FyZ78fv",
        "colab": {
          "base_uri": "https://localhost:8080/",
          "height": 80
        },
        "outputId": "3762006f-edb4-429b-d2dc-d76dbb748a08"
      },
      "source": [
        "#df[df['column_name'].isna()]\n",
        "day_df[day_df['registered'].isna()]"
      ],
      "execution_count": 8,
      "outputs": [
        {
          "output_type": "execute_result",
          "data": {
            "text/html": [
              "<div>\n",
              "<style scoped>\n",
              "    .dataframe tbody tr th:only-of-type {\n",
              "        vertical-align: middle;\n",
              "    }\n",
              "\n",
              "    .dataframe tbody tr th {\n",
              "        vertical-align: top;\n",
              "    }\n",
              "\n",
              "    .dataframe thead th {\n",
              "        text-align: right;\n",
              "    }\n",
              "</style>\n",
              "<table border=\"1\" class=\"dataframe\">\n",
              "  <thead>\n",
              "    <tr style=\"text-align: right;\">\n",
              "      <th></th>\n",
              "      <th>dteday</th>\n",
              "      <th>season</th>\n",
              "      <th>yr</th>\n",
              "      <th>mnth</th>\n",
              "      <th>holiday</th>\n",
              "      <th>weekday</th>\n",
              "      <th>workingday</th>\n",
              "      <th>weathersit</th>\n",
              "      <th>temp</th>\n",
              "      <th>atemp</th>\n",
              "      <th>hum</th>\n",
              "      <th>windspeed</th>\n",
              "      <th>casual</th>\n",
              "      <th>registered</th>\n",
              "      <th>cnt</th>\n",
              "    </tr>\n",
              "    <tr>\n",
              "      <th>instant</th>\n",
              "      <th></th>\n",
              "      <th></th>\n",
              "      <th></th>\n",
              "      <th></th>\n",
              "      <th></th>\n",
              "      <th></th>\n",
              "      <th></th>\n",
              "      <th></th>\n",
              "      <th></th>\n",
              "      <th></th>\n",
              "      <th></th>\n",
              "      <th></th>\n",
              "      <th></th>\n",
              "      <th></th>\n",
              "      <th></th>\n",
              "    </tr>\n",
              "  </thead>\n",
              "  <tbody>\n",
              "  </tbody>\n",
              "</table>\n",
              "</div>"
            ],
            "text/plain": [
              "Empty DataFrame\n",
              "Columns: [dteday, season, yr, mnth, holiday, weekday, workingday, weathersit, temp, atemp, hum, windspeed, casual, registered, cnt]\n",
              "Index: []"
            ]
          },
          "metadata": {
            "tags": []
          },
          "execution_count": 8
        }
      ]
    },
    {
      "cell_type": "code",
      "metadata": {
        "colab": {
          "base_uri": "https://localhost:8080/"
        },
        "id": "rp04ySbHbTWH",
        "outputId": "ecfb327c-e05a-4068-dd79-52ca472e8c7b"
      },
      "source": [
        "#df.isnull().values.any()\n",
        "day_df.isnull().values.any()"
      ],
      "execution_count": 9,
      "outputs": [
        {
          "output_type": "execute_result",
          "data": {
            "text/plain": [
              "False"
            ]
          },
          "metadata": {
            "tags": []
          },
          "execution_count": 9
        }
      ]
    },
    {
      "cell_type": "code",
      "metadata": {
        "colab": {
          "base_uri": "https://localhost:8080/"
        },
        "id": "Dus8wnO0biHl",
        "outputId": "fe8cd194-ae28-428a-964d-3b9cee279ee1"
      },
      "source": [
        "day_df.isna().values.any()"
      ],
      "execution_count": 10,
      "outputs": [
        {
          "output_type": "execute_result",
          "data": {
            "text/plain": [
              "False"
            ]
          },
          "metadata": {
            "tags": []
          },
          "execution_count": 10
        }
      ]
    },
    {
      "cell_type": "code",
      "metadata": {
        "colab": {
          "base_uri": "https://localhost:8080/"
        },
        "id": "YGSYhHWAblqL",
        "outputId": "ae9d5e81-0ea2-4f2e-f84a-069f6448d86c"
      },
      "source": [
        "day_df.dtypes"
      ],
      "execution_count": 11,
      "outputs": [
        {
          "output_type": "execute_result",
          "data": {
            "text/plain": [
              "dteday         object\n",
              "season          int64\n",
              "yr              int64\n",
              "mnth            int64\n",
              "holiday         int64\n",
              "weekday         int64\n",
              "workingday      int64\n",
              "weathersit      int64\n",
              "temp          float64\n",
              "atemp         float64\n",
              "hum           float64\n",
              "windspeed     float64\n",
              "casual          int64\n",
              "registered      int64\n",
              "cnt             int64\n",
              "dtype: object"
            ]
          },
          "metadata": {
            "tags": []
          },
          "execution_count": 11
        }
      ]
    },
    {
      "cell_type": "code",
      "metadata": {
        "colab": {
          "base_uri": "https://localhost:8080/",
          "height": 304
        },
        "id": "TEagCsJxdCkj",
        "outputId": "05651248-980f-4ef1-ce4f-30786e757ce9"
      },
      "source": [
        "g = sns.pairplot(day_df,y_vars= 'cnt', x_vars= ['season', 'mnth', 'weekday', 'workingday', 'weathersit', \n",
        "                                            'temp', 'hum', 'windspeed', 'casual', 'registered'])\n",
        "g.fig.set_figheight(5)\n",
        "g.fig.set_figwidth(20)"
      ],
      "execution_count": 12,
      "outputs": [
        {
          "output_type": "display_data",
          "data": {
            "image/png": "[encoded data removed]",
            "text/plain": [
              "<Figure size 1440x360 with 10 Axes>"
            ]
          },
          "metadata": {
            "tags": [],
            "needs_background": "light"
          }
        }
      ]
    },
    {
      "cell_type": "code",
      "metadata": {
        "colab": {
          "base_uri": "https://localhost:8080/"
        },
        "id": "FJVZTidljBLl",
        "outputId": "d2c01c52-747e-44fd-9fb0-a90437ebcf9f"
      },
      "source": [
        "exists = 4 in day_df.weathersit\n",
        "print(exists)"
      ],
      "execution_count": 13,
      "outputs": [
        {
          "output_type": "stream",
          "text": [
            "True\n"
          ],
          "name": "stdout"
        }
      ]
    },
    {
      "cell_type": "code",
      "metadata": {
        "colab": {
          "base_uri": "https://localhost:8080/"
        },
        "id": "J_HnxQ9AlzSd",
        "outputId": "0b0ec8d3-438e-47ec-ae86-519ad0eaa11d"
      },
      "source": [
        "day_df.weathersit.unique()"
      ],
      "execution_count": 14,
      "outputs": [
        {
          "output_type": "execute_result",
          "data": {
            "text/plain": [
              "array([2, 1, 3])"
            ]
          },
          "metadata": {
            "tags": []
          },
          "execution_count": 14
        }
      ]
    },
    {
      "cell_type": "code",
      "metadata": {
        "colab": {
          "base_uri": "https://localhost:8080/"
        },
        "id": "LaStTmGLm6FK",
        "outputId": "e02c8360-8722-4e8e-bf42-c9e870a9531b"
      },
      "source": [
        "day_df['weathersit'].value_counts()"
      ],
      "execution_count": 15,
      "outputs": [
        {
          "output_type": "execute_result",
          "data": {
            "text/plain": [
              "1    463\n",
              "2    247\n",
              "3     21\n",
              "Name: weathersit, dtype: int64"
            ]
          },
          "metadata": {
            "tags": []
          },
          "execution_count": 15
        }
      ]
    },
    {
      "cell_type": "code",
      "metadata": {
        "colab": {
          "base_uri": "https://localhost:8080/"
        },
        "id": "e9g2VQwxoNVB",
        "outputId": "921328bf-4442-44fa-e50a-1c7d2475adf4"
      },
      "source": [
        "#cnt vs. temp\n",
        "X = day_df[['temp']]\n",
        "Y = day_df[['cnt']]\n",
        "model = linear_module.LinearRegression()\n",
        "reg = model.fit(X, Y)\n",
        "print('inretcept', reg.intercept_)\n",
        "print('slope', reg.coef_)"
      ],
      "execution_count": 16,
      "outputs": [
        {
          "output_type": "stream",
          "text": [
            "inretcept [1214.64211903]\n",
            "slope [[6640.70999855]]\n"
          ],
          "name": "stdout"
        }
      ]
    },
    {
      "cell_type": "code",
      "metadata": {
        "colab": {
          "base_uri": "https://localhost:8080/"
        },
        "id": "ZkxBo39ZuBVg",
        "outputId": "f4598e84-925c-4a09-88cd-754da07acfc4"
      },
      "source": [
        "reg.coef_.squeeze()"
      ],
      "execution_count": 17,
      "outputs": [
        {
          "output_type": "execute_result",
          "data": {
            "text/plain": [
              "array(6640.70999855)"
            ]
          },
          "metadata": {
            "tags": []
          },
          "execution_count": 17
        }
      ]
    },
    {
      "cell_type": "code",
      "metadata": {
        "colab": {
          "base_uri": "https://localhost:8080/",
          "height": 282
        },
        "id": "0qd_lst9uS10",
        "outputId": "37b9f932-bdc6-49e3-8f41-c41c49363916"
      },
      "source": [
        "plt.pyplot.scatter(day_df.temp, day_df.cnt)\n",
        "plt.pyplot.plot(day_df.temp, day_df.temp*reg.coef_.squeeze() + reg.intercept_.squeeze() , color = 'red', label='best fit')\n",
        "plt.pyplot.legend()"
      ],
      "execution_count": 18,
      "outputs": [
        {
          "output_type": "execute_result",
          "data": {
            "text/plain": [
              "<matplotlib.legend.Legend at 0x7f2f90acb790>"
            ]
          },
          "metadata": {
            "tags": []
          },
          "execution_count": 18
        },
        {
          "output_type": "display_data",
          "data": {
            "image/png": "[encoded data removed]",
            "text/plain": [
              "<Figure size 432x288 with 1 Axes>"
            ]
          },
          "metadata": {
            "tags": [],
            "needs_background": "light"
          }
        }
      ]
    },
    {
      "cell_type": "code",
      "metadata": {
        "colab": {
          "base_uri": "https://localhost:8080/"
        },
        "id": "R4yqLkcDw3ba",
        "outputId": "1122fc64-15a7-47cb-bfb3-35c5aaecba91"
      },
      "source": [
        "#prediction\n",
        "from sklearn.model_selection import train_test_split\n",
        "# Split X and Y into training and test subsets\n",
        "X_train, X_test, y_train, y_test = train_test_split(X, Y, test_size=0.25, random_state=1)\n",
        "\n",
        "print('X_train shape: ',X_train.shape)\n",
        "print('y_train shape: ',y_train.shape)\n",
        "print('X_test shape: ',X_test.shape) \n",
        "print('y_test shape: ',y_test.shape)"
      ],
      "execution_count": 19,
      "outputs": [
        {
          "output_type": "stream",
          "text": [
            "X_train shape:  (548, 1)\n",
            "y_train shape:  (548, 1)\n",
            "X_test shape:  (183, 1)\n",
            "y_test shape:  (183, 1)\n"
          ],
          "name": "stdout"
        }
      ]
    },
    {
      "cell_type": "code",
      "metadata": {
        "id": "mwbLZCOWyOQb"
      },
      "source": [
        "model = linear_module.LinearRegression()\n",
        "reg = model.fit(X_train, y_train)"
      ],
      "execution_count": 20,
      "outputs": []
    },
    {
      "cell_type": "code",
      "metadata": {
        "id": "bNlw9MagycFT"
      },
      "source": [
        "#training error\n",
        "y_train_predict = reg.predict(X_train)\n"
      ],
      "execution_count": 21,
      "outputs": []
    },
    {
      "cell_type": "code",
      "metadata": {
        "colab": {
          "base_uri": "https://localhost:8080/",
          "height": 419
        },
        "id": "sQLuqjkJyfIa",
        "outputId": "c4b26723-6150-4302-ef94-d4ad02cfc128"
      },
      "source": [
        "df_train_comparison = pd.DataFrame({'y_train' : y_train.cnt.values, 'predicted' : y_train_predict.flatten() })\n",
        "df_train_comparison"
      ],
      "execution_count": 22,
      "outputs": [
        {
          "output_type": "execute_result",
          "data": {
            "text/html": [
              "<div>\n",
              "<style scoped>\n",
              "    .dataframe tbody tr th:only-of-type {\n",
              "        vertical-align: middle;\n",
              "    }\n",
              "\n",
              "    .dataframe tbody tr th {\n",
              "        vertical-align: top;\n",
              "    }\n",
              "\n",
              "    .dataframe thead th {\n",
              "        text-align: right;\n",
              "    }\n",
              "</style>\n",
              "<table border=\"1\" class=\"dataframe\">\n",
              "  <thead>\n",
              "    <tr style=\"text-align: right;\">\n",
              "      <th></th>\n",
              "      <th>y_train</th>\n",
              "      <th>predicted</th>\n",
              "    </tr>\n",
              "  </thead>\n",
              "  <tbody>\n",
              "    <tr>\n",
              "      <th>0</th>\n",
              "      <td>7001</td>\n",
              "      <td>4828.855770</td>\n",
              "    </tr>\n",
              "    <tr>\n",
              "      <th>1</th>\n",
              "      <td>4758</td>\n",
              "      <td>5570.879865</td>\n",
              "    </tr>\n",
              "    <tr>\n",
              "      <th>2</th>\n",
              "      <td>6691</td>\n",
              "      <td>5264.391652</td>\n",
              "    </tr>\n",
              "    <tr>\n",
              "      <th>3</th>\n",
              "      <td>7393</td>\n",
              "      <td>5533.243112</td>\n",
              "    </tr>\n",
              "    <tr>\n",
              "      <th>4</th>\n",
              "      <td>3867</td>\n",
              "      <td>4587.826987</td>\n",
              "    </tr>\n",
              "    <tr>\n",
              "      <th>...</th>\n",
              "      <td>...</td>\n",
              "      <td>...</td>\n",
              "    </tr>\n",
              "    <tr>\n",
              "      <th>543</th>\n",
              "      <td>3510</td>\n",
              "      <td>4022.307841</td>\n",
              "    </tr>\n",
              "    <tr>\n",
              "      <th>544</th>\n",
              "      <td>3786</td>\n",
              "      <td>3678.182875</td>\n",
              "    </tr>\n",
              "    <tr>\n",
              "      <th>545</th>\n",
              "      <td>2046</td>\n",
              "      <td>3437.618664</td>\n",
              "    </tr>\n",
              "    <tr>\n",
              "      <th>546</th>\n",
              "      <td>5130</td>\n",
              "      <td>5683.796575</td>\n",
              "    </tr>\n",
              "    <tr>\n",
              "      <th>547</th>\n",
              "      <td>1712</td>\n",
              "      <td>3092.093531</td>\n",
              "    </tr>\n",
              "  </tbody>\n",
              "</table>\n",
              "<p>548 rows × 2 columns</p>\n",
              "</div>"
            ],
            "text/plain": [
              "     y_train    predicted\n",
              "0       7001  4828.855770\n",
              "1       4758  5570.879865\n",
              "2       6691  5264.391652\n",
              "3       7393  5533.243112\n",
              "4       3867  4587.826987\n",
              "..       ...          ...\n",
              "543     3510  4022.307841\n",
              "544     3786  3678.182875\n",
              "545     2046  3437.618664\n",
              "546     5130  5683.796575\n",
              "547     1712  3092.093531\n",
              "\n",
              "[548 rows x 2 columns]"
            ]
          },
          "metadata": {
            "tags": []
          },
          "execution_count": 22
        }
      ]
    },
    {
      "cell_type": "code",
      "metadata": {
        "colab": {
          "base_uri": "https://localhost:8080/"
        },
        "id": "WfJaoY5pyq6i",
        "outputId": "942929fd-3954-40f7-9763-992af3e8f7da"
      },
      "source": [
        "from sklearn.metrics import mean_squared_error\n",
        "import math\n",
        "\n",
        "regression_train_mse = mean_squared_error(y_train_predict, y_train)\n",
        "print('Temp training error',' ',math.sqrt(regression_train_mse))"
      ],
      "execution_count": 23,
      "outputs": [
        {
          "output_type": "stream",
          "text": [
            "Temp training error   1528.0892824366624\n"
          ],
          "name": "stdout"
        }
      ]
    },
    {
      "cell_type": "code",
      "metadata": {
        "id": "fcJUk851zAD3"
      },
      "source": [
        "#Test error\n",
        "y_predict = reg.predict(X_test)"
      ],
      "execution_count": 24,
      "outputs": []
    },
    {
      "cell_type": "code",
      "metadata": {
        "colab": {
          "base_uri": "https://localhost:8080/",
          "height": 419
        },
        "id": "ybmDIcU_zAGJ",
        "outputId": "0c54c24b-9bdc-40ee-d241-73dfd15a1d3b"
      },
      "source": [
        "df_comparison = pd.DataFrame({'y_test' : y_test.cnt.values, 'predicted' : y_predict.flatten() })\n",
        "df_comparison"
      ],
      "execution_count": 25,
      "outputs": [
        {
          "output_type": "execute_result",
          "data": {
            "text/html": [
              "<div>\n",
              "<style scoped>\n",
              "    .dataframe tbody tr th:only-of-type {\n",
              "        vertical-align: middle;\n",
              "    }\n",
              "\n",
              "    .dataframe tbody tr th {\n",
              "        vertical-align: top;\n",
              "    }\n",
              "\n",
              "    .dataframe thead th {\n",
              "        text-align: right;\n",
              "    }\n",
              "</style>\n",
              "<table border=\"1\" class=\"dataframe\">\n",
              "  <thead>\n",
              "    <tr style=\"text-align: right;\">\n",
              "      <th></th>\n",
              "      <th>y_test</th>\n",
              "      <th>predicted</th>\n",
              "    </tr>\n",
              "  </thead>\n",
              "  <tbody>\n",
              "    <tr>\n",
              "      <th>0</th>\n",
              "      <td>3830</td>\n",
              "      <td>3049.075491</td>\n",
              "    </tr>\n",
              "    <tr>\n",
              "      <th>1</th>\n",
              "      <td>2114</td>\n",
              "      <td>2979.176821</td>\n",
              "    </tr>\n",
              "    <tr>\n",
              "      <th>2</th>\n",
              "      <td>3915</td>\n",
              "      <td>6554.868338</td>\n",
              "    </tr>\n",
              "    <tr>\n",
              "      <th>3</th>\n",
              "      <td>4322</td>\n",
              "      <td>3705.069957</td>\n",
              "    </tr>\n",
              "    <tr>\n",
              "      <th>4</th>\n",
              "      <td>6591</td>\n",
              "      <td>5791.338450</td>\n",
              "    </tr>\n",
              "    <tr>\n",
              "      <th>...</th>\n",
              "      <td>...</td>\n",
              "      <td>...</td>\n",
              "    </tr>\n",
              "    <tr>\n",
              "      <th>178</th>\n",
              "      <td>5336</td>\n",
              "      <td>6070.939581</td>\n",
              "    </tr>\n",
              "    <tr>\n",
              "      <th>179</th>\n",
              "      <td>2311</td>\n",
              "      <td>2414.593270</td>\n",
              "    </tr>\n",
              "    <tr>\n",
              "      <th>180</th>\n",
              "      <td>1162</td>\n",
              "      <td>2453.694714</td>\n",
              "    </tr>\n",
              "    <tr>\n",
              "      <th>181</th>\n",
              "      <td>1536</td>\n",
              "      <td>3274.908911</td>\n",
              "    </tr>\n",
              "    <tr>\n",
              "      <th>182</th>\n",
              "      <td>7641</td>\n",
              "      <td>5226.754899</td>\n",
              "    </tr>\n",
              "  </tbody>\n",
              "</table>\n",
              "<p>183 rows × 2 columns</p>\n",
              "</div>"
            ],
            "text/plain": [
              "     y_test    predicted\n",
              "0      3830  3049.075491\n",
              "1      2114  2979.176821\n",
              "2      3915  6554.868338\n",
              "3      4322  3705.069957\n",
              "4      6591  5791.338450\n",
              "..      ...          ...\n",
              "178    5336  6070.939581\n",
              "179    2311  2414.593270\n",
              "180    1162  2453.694714\n",
              "181    1536  3274.908911\n",
              "182    7641  5226.754899\n",
              "\n",
              "[183 rows x 2 columns]"
            ]
          },
          "metadata": {
            "tags": []
          },
          "execution_count": 25
        }
      ]
    },
    {
      "cell_type": "code",
      "metadata": {
        "colab": {
          "base_uri": "https://localhost:8080/"
        },
        "id": "TBODPqXEzqPa",
        "outputId": "0e7354e4-c6c9-48ee-be62-8b210bea0bbd"
      },
      "source": [
        "regression_test_mse = mean_squared_error(y_predict, y_test)\n",
        "print('Temp test error',' ',math.sqrt(regression_test_mse))"
      ],
      "execution_count": 26,
      "outputs": [
        {
          "output_type": "stream",
          "text": [
            "Temp test error   1446.3396578458685\n"
          ],
          "name": "stdout"
        }
      ]
    },
    {
      "cell_type": "code",
      "metadata": {
        "colab": {
          "base_uri": "https://localhost:8080/"
        },
        "id": "876DMuolz0Tt",
        "outputId": "d878444b-4ee3-44fc-e193-eb6383002d56"
      },
      "source": [
        "from sklearn.metrics import r2_score\n",
        "r2_score(y_train,  y_train_predict.flatten())"
      ],
      "execution_count": 27,
      "outputs": [
        {
          "output_type": "execute_result",
          "data": {
            "text/plain": [
              "0.3583530742348493"
            ]
          },
          "metadata": {
            "tags": []
          },
          "execution_count": 27
        }
      ]
    },
    {
      "cell_type": "code",
      "metadata": {
        "colab": {
          "base_uri": "https://localhost:8080/"
        },
        "id": "r6sZoFsqz7lx",
        "outputId": "8422830c-8c48-4f85-c2a0-17c1ff1e612d"
      },
      "source": [
        "r2_score(y_test, y_predict)"
      ],
      "execution_count": 105,
      "outputs": [
        {
          "output_type": "execute_result",
          "data": {
            "text/plain": [
              "0.4664634368801043"
            ]
          },
          "metadata": {
            "tags": []
          },
          "execution_count": 105
        }
      ]
    },
    {
      "cell_type": "code",
      "metadata": {
        "id": "fb7JDVND5-zI"
      },
      "source": [
        "#Two variable regression\n"
      ],
      "execution_count": 106,
      "outputs": []
    },
    {
      "cell_type": "code",
      "metadata": {
        "id": "d5CNWn_r6CON"
      },
      "source": [
        "#cnt vs. temp and hum\n",
        "Y = df[['cnt']]\n",
        "X = df[['temp', 'hum']]\n",
        "\n",
        "from sklearn.model_selection import train_test_split\n",
        "X_train, X_test, y_train, y_test = train_test_split(X, Y, test_size=0.25, random_state=1)"
      ],
      "execution_count": 28,
      "outputs": []
    },
    {
      "cell_type": "code",
      "metadata": {
        "colab": {
          "base_uri": "https://localhost:8080/"
        },
        "id": "sivFU6Uf6Rr0",
        "outputId": "d7a1eba8-dab1-4a4b-f8df-2e736be98b84"
      },
      "source": [
        "# training\n",
        "import sklearn.linear_model as linear_module\n",
        "model = linear_module.LinearRegression()\n",
        "reg = model.fit(X_train, y_train)\n",
        "print(\"intercept\", reg.intercept_)\n",
        "print(\"slope\", reg.coef_)"
      ],
      "execution_count": 29,
      "outputs": [
        {
          "output_type": "stream",
          "text": [
            "intercept [184.57320547]\n",
            "slope [[ 359.73792139 -278.27245192]]\n"
          ],
          "name": "stdout"
        }
      ]
    },
    {
      "cell_type": "code",
      "metadata": {
        "colab": {
          "base_uri": "https://localhost:8080/"
        },
        "id": "PAjkysQH6gCU",
        "outputId": "be95279c-a810-4df0-c0fe-ea98498d9d75"
      },
      "source": [
        "# training error\n",
        "y_train_predict = reg.predict(X_train)\n",
        "\n",
        "from sklearn.metrics import mean_squared_error\n",
        "import math\n",
        "\n",
        "regression_train_rse = math.sqrt(mean_squared_error(y_train_predict, y_train))\n",
        "print(regression_train_rse)\n",
        "\n",
        "from sklearn.metrics import r2_score\n",
        "r2_score(y_train, y_train_predict)\n"
      ],
      "execution_count": 30,
      "outputs": [
        {
          "output_type": "stream",
          "text": [
            "155.88182828393766\n"
          ],
          "name": "stdout"
        },
        {
          "output_type": "execute_result",
          "data": {
            "text/plain": [
              "0.2510949363606425"
            ]
          },
          "metadata": {
            "tags": []
          },
          "execution_count": 30
        }
      ]
    },
    {
      "cell_type": "code",
      "metadata": {
        "colab": {
          "base_uri": "https://localhost:8080/"
        },
        "id": "Um8BMPBe21un",
        "outputId": "3fa443e8-0762-4189-af19-c84c504e8bd2"
      },
      "source": [
        "# test error\n",
        "y_predict = reg.predict(X_test)\n",
        "regression_test_rse = math.sqrt(mean_squared_error(y_predict, y_test))\n",
        "\n",
        "print(regression_test_rse)\n",
        "\n",
        "from sklearn.metrics import r2_score\n",
        "r2_score(y_test, y_predict)\n"
      ],
      "execution_count": 31,
      "outputs": [
        {
          "output_type": "stream",
          "text": [
            "160.1956579711852\n"
          ],
          "name": "stdout"
        },
        {
          "output_type": "execute_result",
          "data": {
            "text/plain": [
              "0.2506158503791893"
            ]
          },
          "metadata": {
            "tags": []
          },
          "execution_count": 31
        }
      ]
    },
    {
      "cell_type": "code",
      "metadata": {
        "colab": {
          "base_uri": "https://localhost:8080/"
        },
        "id": "KC-rLzRfu6Vn",
        "outputId": "504b93d9-e8be-4104-f1a8-8856a39a0c55"
      },
      "source": [
        "#cnt vs. weekday and registered\n",
        "Y = day_df[['cnt']]\n",
        "X = day_df[['weekday', 'registered']]\n",
        "\n",
        "from sklearn.model_selection import train_test_split\n",
        "X_train, X_test, y_train, y_test = train_test_split(X, Y, test_size=0.25, random_state=1)\n",
        "\n",
        "# training\n",
        "import sklearn.linear_model as linear_module\n",
        "model = linear_module.LinearRegression()\n",
        "reg = model.fit(X_train, y_train)\n",
        "print(\"intercept\", reg.intercept_)\n",
        "print(\"slope\", reg.coef_)"
      ],
      "execution_count": 32,
      "outputs": [
        {
          "output_type": "stream",
          "text": [
            "intercept [228.02382944]\n",
            "slope [[10.53785593  1.1680882 ]]\n"
          ],
          "name": "stdout"
        }
      ]
    },
    {
      "cell_type": "code",
      "metadata": {
        "colab": {
          "base_uri": "https://localhost:8080/"
        },
        "id": "S7h4X-vmwqtM",
        "outputId": "a1f1b1ad-fc09-4529-cbaa-1f9b2768c114"
      },
      "source": [
        "# training error\n",
        "y_train_predict = reg.predict(X_train)\n",
        "\n",
        "from sklearn.metrics import mean_squared_error\n",
        "import math\n",
        "\n",
        "regression_train_rse = math.sqrt(mean_squared_error(y_train_predict, y_train))\n",
        "print(regression_train_rse)\n",
        "\n",
        "from sklearn.metrics import r2_score\n",
        "r2_score(y_train, y_train_predict)"
      ],
      "execution_count": 33,
      "outputs": [
        {
          "output_type": "stream",
          "text": [
            "638.719852269939\n"
          ],
          "name": "stdout"
        },
        {
          "output_type": "execute_result",
          "data": {
            "text/plain": [
              "0.8878964184174524"
            ]
          },
          "metadata": {
            "tags": []
          },
          "execution_count": 33
        }
      ]
    },
    {
      "cell_type": "code",
      "metadata": {
        "colab": {
          "base_uri": "https://localhost:8080/"
        },
        "id": "xtrwRmcox0Mg",
        "outputId": "332b581d-0b49-43f9-d784-477cef244170"
      },
      "source": [
        "# test error\n",
        "y_predict = reg.predict(X_test)\n",
        "regression_test_rse = math.sqrt(mean_squared_error(y_predict, y_test))\n",
        "print(regression_test_rse)\n",
        "\n",
        "from sklearn.metrics import r2_score\n",
        "r2_score(y_test, y_predict)"
      ],
      "execution_count": 34,
      "outputs": [
        {
          "output_type": "stream",
          "text": [
            "604.6116754304829\n"
          ],
          "name": "stdout"
        },
        {
          "output_type": "execute_result",
          "data": {
            "text/plain": [
              "0.9067654977201628"
            ]
          },
          "metadata": {
            "tags": []
          },
          "execution_count": 34
        }
      ]
    },
    {
      "cell_type": "code",
      "metadata": {
        "id": "3j8Ru_X6yiwO"
      },
      "source": [
        "# one-hot encoding for weathr\n"
      ],
      "execution_count": 116,
      "outputs": []
    },
    {
      "cell_type": "code",
      "metadata": {
        "colab": {
          "base_uri": "https://localhost:8080/",
          "height": 235
        },
        "id": "Y8uC_2J8ESz0",
        "outputId": "c3e65646-3082-43c6-8272-24911730241d"
      },
      "source": [
        "day1_df = day_df.replace({\n",
        "    'weathersit': {\n",
        "        1: 'Clear',\n",
        "        2: 'Mist',\n",
        "        3: 'Light Rain',\n",
        "        4: 'Heavy Rain'}\n",
        "    })\n",
        "day1_df.head()\n"
      ],
      "execution_count": 35,
      "outputs": [
        {
          "output_type": "execute_result",
          "data": {
            "text/html": [
              "<div>\n",
              "<style scoped>\n",
              "    .dataframe tbody tr th:only-of-type {\n",
              "        vertical-align: middle;\n",
              "    }\n",
              "\n",
              "    .dataframe tbody tr th {\n",
              "        vertical-align: top;\n",
              "    }\n",
              "\n",
              "    .dataframe thead th {\n",
              "        text-align: right;\n",
              "    }\n",
              "</style>\n",
              "<table border=\"1\" class=\"dataframe\">\n",
              "  <thead>\n",
              "    <tr style=\"text-align: right;\">\n",
              "      <th></th>\n",
              "      <th>dteday</th>\n",
              "      <th>season</th>\n",
              "      <th>yr</th>\n",
              "      <th>mnth</th>\n",
              "      <th>holiday</th>\n",
              "      <th>weekday</th>\n",
              "      <th>workingday</th>\n",
              "      <th>weathersit</th>\n",
              "      <th>temp</th>\n",
              "      <th>atemp</th>\n",
              "      <th>hum</th>\n",
              "      <th>windspeed</th>\n",
              "      <th>casual</th>\n",
              "      <th>registered</th>\n",
              "      <th>cnt</th>\n",
              "    </tr>\n",
              "    <tr>\n",
              "      <th>instant</th>\n",
              "      <th></th>\n",
              "      <th></th>\n",
              "      <th></th>\n",
              "      <th></th>\n",
              "      <th></th>\n",
              "      <th></th>\n",
              "      <th></th>\n",
              "      <th></th>\n",
              "      <th></th>\n",
              "      <th></th>\n",
              "      <th></th>\n",
              "      <th></th>\n",
              "      <th></th>\n",
              "      <th></th>\n",
              "      <th></th>\n",
              "    </tr>\n",
              "  </thead>\n",
              "  <tbody>\n",
              "    <tr>\n",
              "      <th>1</th>\n",
              "      <td>2011-01-01</td>\n",
              "      <td>1</td>\n",
              "      <td>0</td>\n",
              "      <td>1</td>\n",
              "      <td>0</td>\n",
              "      <td>6</td>\n",
              "      <td>0</td>\n",
              "      <td>Mist</td>\n",
              "      <td>0.344167</td>\n",
              "      <td>0.363625</td>\n",
              "      <td>0.805833</td>\n",
              "      <td>0.160446</td>\n",
              "      <td>331</td>\n",
              "      <td>654</td>\n",
              "      <td>985</td>\n",
              "    </tr>\n",
              "    <tr>\n",
              "      <th>2</th>\n",
              "      <td>2011-01-02</td>\n",
              "      <td>1</td>\n",
              "      <td>0</td>\n",
              "      <td>1</td>\n",
              "      <td>0</td>\n",
              "      <td>0</td>\n",
              "      <td>0</td>\n",
              "      <td>Mist</td>\n",
              "      <td>0.363478</td>\n",
              "      <td>0.353739</td>\n",
              "      <td>0.696087</td>\n",
              "      <td>0.248539</td>\n",
              "      <td>131</td>\n",
              "      <td>670</td>\n",
              "      <td>801</td>\n",
              "    </tr>\n",
              "    <tr>\n",
              "      <th>3</th>\n",
              "      <td>2011-01-03</td>\n",
              "      <td>1</td>\n",
              "      <td>0</td>\n",
              "      <td>1</td>\n",
              "      <td>0</td>\n",
              "      <td>1</td>\n",
              "      <td>1</td>\n",
              "      <td>Clear</td>\n",
              "      <td>0.196364</td>\n",
              "      <td>0.189405</td>\n",
              "      <td>0.437273</td>\n",
              "      <td>0.248309</td>\n",
              "      <td>120</td>\n",
              "      <td>1229</td>\n",
              "      <td>1349</td>\n",
              "    </tr>\n",
              "    <tr>\n",
              "      <th>4</th>\n",
              "      <td>2011-01-04</td>\n",
              "      <td>1</td>\n",
              "      <td>0</td>\n",
              "      <td>1</td>\n",
              "      <td>0</td>\n",
              "      <td>2</td>\n",
              "      <td>1</td>\n",
              "      <td>Clear</td>\n",
              "      <td>0.200000</td>\n",
              "      <td>0.212122</td>\n",
              "      <td>0.590435</td>\n",
              "      <td>0.160296</td>\n",
              "      <td>108</td>\n",
              "      <td>1454</td>\n",
              "      <td>1562</td>\n",
              "    </tr>\n",
              "    <tr>\n",
              "      <th>5</th>\n",
              "      <td>2011-01-05</td>\n",
              "      <td>1</td>\n",
              "      <td>0</td>\n",
              "      <td>1</td>\n",
              "      <td>0</td>\n",
              "      <td>3</td>\n",
              "      <td>1</td>\n",
              "      <td>Clear</td>\n",
              "      <td>0.226957</td>\n",
              "      <td>0.229270</td>\n",
              "      <td>0.436957</td>\n",
              "      <td>0.186900</td>\n",
              "      <td>82</td>\n",
              "      <td>1518</td>\n",
              "      <td>1600</td>\n",
              "    </tr>\n",
              "  </tbody>\n",
              "</table>\n",
              "</div>"
            ],
            "text/plain": [
              "             dteday  season  yr  mnth  ...  windspeed  casual  registered   cnt\n",
              "instant                                ...                                     \n",
              "1        2011-01-01       1   0     1  ...   0.160446     331         654   985\n",
              "2        2011-01-02       1   0     1  ...   0.248539     131         670   801\n",
              "3        2011-01-03       1   0     1  ...   0.248309     120        1229  1349\n",
              "4        2011-01-04       1   0     1  ...   0.160296     108        1454  1562\n",
              "5        2011-01-05       1   0     1  ...   0.186900      82        1518  1600\n",
              "\n",
              "[5 rows x 15 columns]"
            ]
          },
          "metadata": {
            "tags": []
          },
          "execution_count": 35
        }
      ]
    },
    {
      "cell_type": "code",
      "metadata": {
        "colab": {
          "base_uri": "https://localhost:8080/"
        },
        "id": "zEBJoC09mbhY",
        "outputId": "a9d17b27-a671-4e86-d4e7-6e8f119e08a0"
      },
      "source": [
        "day1_df.weathersit.unique()"
      ],
      "execution_count": 36,
      "outputs": [
        {
          "output_type": "execute_result",
          "data": {
            "text/plain": [
              "array(['Mist', 'Clear', 'Light Rain'], dtype=object)"
            ]
          },
          "metadata": {
            "tags": []
          },
          "execution_count": 36
        }
      ]
    },
    {
      "cell_type": "code",
      "metadata": {
        "colab": {
          "base_uri": "https://localhost:8080/"
        },
        "id": "IZPJTjbAC6K3",
        "outputId": "06ec2f8d-0aeb-44c4-bc5e-70aceb579fc8"
      },
      "source": [
        "weather_list = list(day1_df.weathersit.unique())\n",
        "weather_list"
      ],
      "execution_count": 37,
      "outputs": [
        {
          "output_type": "execute_result",
          "data": {
            "text/plain": [
              "['Mist', 'Clear', 'Light Rain']"
            ]
          },
          "metadata": {
            "tags": []
          },
          "execution_count": 37
        }
      ]
    },
    {
      "cell_type": "code",
      "metadata": {
        "colab": {
          "base_uri": "https://localhost:8080/"
        },
        "id": "8ALFnjJW_1ub",
        "outputId": "ecb441ad-60b7-44eb-9e20-fe0c1f1dab5e"
      },
      "source": [
        "from sklearn import preprocessing\n",
        "from sklearn.preprocessing import OneHotEncoder\n",
        "enc = preprocessing.OneHotEncoder(categories=[weather_list])\n",
        "enc"
      ],
      "execution_count": 38,
      "outputs": [
        {
          "output_type": "execute_result",
          "data": {
            "text/plain": [
              "OneHotEncoder(categories=[['Mist', 'Clear', 'Light Rain']])"
            ]
          },
          "metadata": {
            "tags": []
          },
          "execution_count": 38
        }
      ]
    },
    {
      "cell_type": "code",
      "metadata": {
        "colab": {
          "base_uri": "https://localhost:8080/"
        },
        "id": "DNQL6_CXB65q",
        "outputId": "49ddb9b6-4e8f-4c3b-fc7b-82ecdcc8e8a7"
      },
      "source": [
        "x = [['Mist'], ['Clear'], ['Light Rain']]\n",
        "enc.fit(x)\n",
        "enc.transform(day1_df.weathersit.values.reshape(-1,1))"
      ],
      "execution_count": 39,
      "outputs": [
        {
          "output_type": "execute_result",
          "data": {
            "text/plain": [
              "<731x3 sparse matrix of type '<class 'numpy.float64'>'\n",
              "\twith 731 stored elements in Compressed Sparse Row format>"
            ]
          },
          "metadata": {
            "tags": []
          },
          "execution_count": 39
        }
      ]
    },
    {
      "cell_type": "code",
      "metadata": {
        "colab": {
          "base_uri": "https://localhost:8080/",
          "height": 419
        },
        "id": "L80-BhtBEFtc",
        "outputId": "c22fe89c-4f7c-4d7f-9265-cf1a2fb52acc"
      },
      "source": [
        "pd.DataFrame.sparse.from_spmatrix(enc.transform(day1_df.weathersit.values.reshape(-1,1)))"
      ],
      "execution_count": 40,
      "outputs": [
        {
          "output_type": "execute_result",
          "data": {
            "text/html": [
              "<div>\n",
              "<style scoped>\n",
              "    .dataframe tbody tr th:only-of-type {\n",
              "        vertical-align: middle;\n",
              "    }\n",
              "\n",
              "    .dataframe tbody tr th {\n",
              "        vertical-align: top;\n",
              "    }\n",
              "\n",
              "    .dataframe thead th {\n",
              "        text-align: right;\n",
              "    }\n",
              "</style>\n",
              "<table border=\"1\" class=\"dataframe\">\n",
              "  <thead>\n",
              "    <tr style=\"text-align: right;\">\n",
              "      <th></th>\n",
              "      <th>0</th>\n",
              "      <th>1</th>\n",
              "      <th>2</th>\n",
              "    </tr>\n",
              "  </thead>\n",
              "  <tbody>\n",
              "    <tr>\n",
              "      <th>0</th>\n",
              "      <td>1.0</td>\n",
              "      <td>0.0</td>\n",
              "      <td>0.0</td>\n",
              "    </tr>\n",
              "    <tr>\n",
              "      <th>1</th>\n",
              "      <td>1.0</td>\n",
              "      <td>0.0</td>\n",
              "      <td>0.0</td>\n",
              "    </tr>\n",
              "    <tr>\n",
              "      <th>2</th>\n",
              "      <td>0.0</td>\n",
              "      <td>1.0</td>\n",
              "      <td>0.0</td>\n",
              "    </tr>\n",
              "    <tr>\n",
              "      <th>3</th>\n",
              "      <td>0.0</td>\n",
              "      <td>1.0</td>\n",
              "      <td>0.0</td>\n",
              "    </tr>\n",
              "    <tr>\n",
              "      <th>4</th>\n",
              "      <td>0.0</td>\n",
              "      <td>1.0</td>\n",
              "      <td>0.0</td>\n",
              "    </tr>\n",
              "    <tr>\n",
              "      <th>...</th>\n",
              "      <td>...</td>\n",
              "      <td>...</td>\n",
              "      <td>...</td>\n",
              "    </tr>\n",
              "    <tr>\n",
              "      <th>726</th>\n",
              "      <td>1.0</td>\n",
              "      <td>0.0</td>\n",
              "      <td>0.0</td>\n",
              "    </tr>\n",
              "    <tr>\n",
              "      <th>727</th>\n",
              "      <td>1.0</td>\n",
              "      <td>0.0</td>\n",
              "      <td>0.0</td>\n",
              "    </tr>\n",
              "    <tr>\n",
              "      <th>728</th>\n",
              "      <td>1.0</td>\n",
              "      <td>0.0</td>\n",
              "      <td>0.0</td>\n",
              "    </tr>\n",
              "    <tr>\n",
              "      <th>729</th>\n",
              "      <td>0.0</td>\n",
              "      <td>1.0</td>\n",
              "      <td>0.0</td>\n",
              "    </tr>\n",
              "    <tr>\n",
              "      <th>730</th>\n",
              "      <td>1.0</td>\n",
              "      <td>0.0</td>\n",
              "      <td>0.0</td>\n",
              "    </tr>\n",
              "  </tbody>\n",
              "</table>\n",
              "<p>731 rows × 3 columns</p>\n",
              "</div>"
            ],
            "text/plain": [
              "       0    1    2\n",
              "0    1.0  0.0  0.0\n",
              "1    1.0  0.0  0.0\n",
              "2    0.0  1.0  0.0\n",
              "3    0.0  1.0  0.0\n",
              "4    0.0  1.0  0.0\n",
              "..   ...  ...  ...\n",
              "726  1.0  0.0  0.0\n",
              "727  1.0  0.0  0.0\n",
              "728  1.0  0.0  0.0\n",
              "729  0.0  1.0  0.0\n",
              "730  1.0  0.0  0.0\n",
              "\n",
              "[731 rows x 3 columns]"
            ]
          },
          "metadata": {
            "tags": []
          },
          "execution_count": 40
        }
      ]
    },
    {
      "cell_type": "code",
      "metadata": {
        "colab": {
          "base_uri": "https://localhost:8080/"
        },
        "id": "nBSygG-lEkpK",
        "outputId": "017a3a61-551b-4caa-8812-b8bf08d8749d"
      },
      "source": [
        "Y = day1_df[['cnt']]\n",
        "X_enc = enc.transform(day1_df.weathersit.values.reshape(-1,1))\n",
        "\n",
        "X_enc_train, X_enc_test, y_train, y_test = train_test_split(X_enc, Y, test_size=0.25, random_state=1)\n",
        "\n",
        "# training\n",
        "model = linear_module.LinearRegression()\n",
        "reg = model.fit(X_enc_train, y_train)\n",
        "print(\"intercept\", reg.intercept_)\n",
        "print(\"slope\", reg.coef_)"
      ],
      "execution_count": 41,
      "outputs": [
        {
          "output_type": "stream",
          "text": [
            "intercept [3675.07271802]\n",
            "slope [[  494.88308309  1306.30728198 -1801.19036507]]\n"
          ],
          "name": "stdout"
        }
      ]
    },
    {
      "cell_type": "code",
      "metadata": {
        "colab": {
          "base_uri": "https://localhost:8080/"
        },
        "id": "ALAmA5piGggw",
        "outputId": "8d3ea92e-45e1-49ff-f550-d6b12150ae3d"
      },
      "source": [
        "y_train_predict = reg.predict(X_enc_train)\n",
        "regression_test_rse = math.sqrt(mean_squared_error(y_train_predict, y_train))\n",
        "\n",
        "r2_score(y_train, y_train_predict)"
      ],
      "execution_count": 42,
      "outputs": [
        {
          "output_type": "execute_result",
          "data": {
            "text/plain": [
              "0.10558442817885194"
            ]
          },
          "metadata": {
            "tags": []
          },
          "execution_count": 42
        }
      ]
    },
    {
      "cell_type": "code",
      "metadata": {
        "id": "D3Bf33icokGp"
      },
      "source": [
        "####\n",
        "# Y = day1_df[['cnt']]\n",
        "# X = enc.transform(day1_df.weathersit.values.reshape(-1,1))\n",
        "# from sklearn.model_selection import train_test_split\n",
        "# X_train, X_test, y_train, y_test = train_test_split(X, Y, test_size=0.25, random_state=1)"
      ],
      "execution_count": 47,
      "outputs": []
    },
    {
      "cell_type": "code",
      "metadata": {
        "colab": {
          "base_uri": "https://localhost:8080/"
        },
        "id": "hFxGBc8VpfnG",
        "outputId": "7a5e1908-313c-4db4-d976-b134793ec8c0"
      },
      "source": [
        "#training\n",
        "model = linear_module.LinearRegression()\n",
        "reg = model.fit(X_train, y_train)\n",
        "print(\"intercept\", reg.intercept_)\n",
        "print(\"slope\", reg.coef_)\n"
      ],
      "execution_count": 43,
      "outputs": [
        {
          "output_type": "stream",
          "text": [
            "intercept [228.02382944]\n",
            "slope [[10.53785593  1.1680882 ]]\n"
          ],
          "name": "stdout"
        }
      ]
    },
    {
      "cell_type": "code",
      "metadata": {
        "colab": {
          "base_uri": "https://localhost:8080/"
        },
        "id": "ZvspjoJSpi5r",
        "outputId": "8e79d721-a385-476a-e21a-04b70cd85cb9"
      },
      "source": [
        "#training error\n",
        "y_train_predict = reg.predict(X_train)\n",
        "regression_train_rse = math.sqrt(mean_squared_error(y_train_predict, y_train))\n",
        "r2_score_training = r2_score(y_train, y_train_predict)\n",
        "r2_score_training"
      ],
      "execution_count": 44,
      "outputs": [
        {
          "output_type": "execute_result",
          "data": {
            "text/plain": [
              "0.8878964184174524"
            ]
          },
          "metadata": {
            "tags": []
          },
          "execution_count": 44
        }
      ]
    },
    {
      "cell_type": "code",
      "metadata": {
        "colab": {
          "base_uri": "https://localhost:8080/"
        },
        "id": "BONZp0Hc2Ed_",
        "outputId": "2571beb6-e244-46dc-9f0d-8a67f43414ce"
      },
      "source": [
        "#test error\n",
        "y_predict = reg.predict(X_test)\n",
        "regression_test_rse = math.sqrt(mean_squared_error(y_predict, y_test))\n",
        "r2_score_test=r2_score(y_test, y_predict)\n",
        "r2_score_test"
      ],
      "execution_count": 45,
      "outputs": [
        {
          "output_type": "execute_result",
          "data": {
            "text/plain": [
              "0.9067654977201628"
            ]
          },
          "metadata": {
            "tags": []
          },
          "execution_count": 45
        }
      ]
    },
    {
      "cell_type": "code",
      "metadata": {
        "colab": {
          "base_uri": "https://localhost:8080/"
        },
        "id": "3Xm00Fq-3eAC",
        "outputId": "9a2fe445-4457-4bda-d157-32341ba2fb61"
      },
      "source": [
        "#one-hot encoding for weekday\n",
        "day_df.weekday.nunique()"
      ],
      "execution_count": 46,
      "outputs": [
        {
          "output_type": "execute_result",
          "data": {
            "text/plain": [
              "7"
            ]
          },
          "metadata": {
            "tags": []
          },
          "execution_count": 46
        }
      ]
    },
    {
      "cell_type": "code",
      "metadata": {
        "id": "wiEMFzoC4obO"
      },
      "source": [
        "day2_df = day1_df.replace({\n",
        "    'weekday': {\n",
        "        6: 'Sunday',\n",
        "        0: 'Monday',\n",
        "        1: 'Tuesday',\n",
        "        2: 'Wednesday',\n",
        "        3: 'Thursday',\n",
        "        4: 'Friday',\n",
        "        5: 'Saturday'}\n",
        "    })"
      ],
      "execution_count": 47,
      "outputs": []
    },
    {
      "cell_type": "code",
      "metadata": {
        "colab": {
          "base_uri": "https://localhost:8080/",
          "height": 235
        },
        "id": "hAV5uEar5dZ8",
        "outputId": "a79d4204-1fd1-4925-85d6-2d1e577cc000"
      },
      "source": [
        "day2_df.head()"
      ],
      "execution_count": 48,
      "outputs": [
        {
          "output_type": "execute_result",
          "data": {
            "text/html": [
              "<div>\n",
              "<style scoped>\n",
              "    .dataframe tbody tr th:only-of-type {\n",
              "        vertical-align: middle;\n",
              "    }\n",
              "\n",
              "    .dataframe tbody tr th {\n",
              "        vertical-align: top;\n",
              "    }\n",
              "\n",
              "    .dataframe thead th {\n",
              "        text-align: right;\n",
              "    }\n",
              "</style>\n",
              "<table border=\"1\" class=\"dataframe\">\n",
              "  <thead>\n",
              "    <tr style=\"text-align: right;\">\n",
              "      <th></th>\n",
              "      <th>dteday</th>\n",
              "      <th>season</th>\n",
              "      <th>yr</th>\n",
              "      <th>mnth</th>\n",
              "      <th>holiday</th>\n",
              "      <th>weekday</th>\n",
              "      <th>workingday</th>\n",
              "      <th>weathersit</th>\n",
              "      <th>temp</th>\n",
              "      <th>atemp</th>\n",
              "      <th>hum</th>\n",
              "      <th>windspeed</th>\n",
              "      <th>casual</th>\n",
              "      <th>registered</th>\n",
              "      <th>cnt</th>\n",
              "    </tr>\n",
              "    <tr>\n",
              "      <th>instant</th>\n",
              "      <th></th>\n",
              "      <th></th>\n",
              "      <th></th>\n",
              "      <th></th>\n",
              "      <th></th>\n",
              "      <th></th>\n",
              "      <th></th>\n",
              "      <th></th>\n",
              "      <th></th>\n",
              "      <th></th>\n",
              "      <th></th>\n",
              "      <th></th>\n",
              "      <th></th>\n",
              "      <th></th>\n",
              "      <th></th>\n",
              "    </tr>\n",
              "  </thead>\n",
              "  <tbody>\n",
              "    <tr>\n",
              "      <th>1</th>\n",
              "      <td>2011-01-01</td>\n",
              "      <td>1</td>\n",
              "      <td>0</td>\n",
              "      <td>1</td>\n",
              "      <td>0</td>\n",
              "      <td>Sunday</td>\n",
              "      <td>0</td>\n",
              "      <td>Mist</td>\n",
              "      <td>0.344167</td>\n",
              "      <td>0.363625</td>\n",
              "      <td>0.805833</td>\n",
              "      <td>0.160446</td>\n",
              "      <td>331</td>\n",
              "      <td>654</td>\n",
              "      <td>985</td>\n",
              "    </tr>\n",
              "    <tr>\n",
              "      <th>2</th>\n",
              "      <td>2011-01-02</td>\n",
              "      <td>1</td>\n",
              "      <td>0</td>\n",
              "      <td>1</td>\n",
              "      <td>0</td>\n",
              "      <td>Monday</td>\n",
              "      <td>0</td>\n",
              "      <td>Mist</td>\n",
              "      <td>0.363478</td>\n",
              "      <td>0.353739</td>\n",
              "      <td>0.696087</td>\n",
              "      <td>0.248539</td>\n",
              "      <td>131</td>\n",
              "      <td>670</td>\n",
              "      <td>801</td>\n",
              "    </tr>\n",
              "    <tr>\n",
              "      <th>3</th>\n",
              "      <td>2011-01-03</td>\n",
              "      <td>1</td>\n",
              "      <td>0</td>\n",
              "      <td>1</td>\n",
              "      <td>0</td>\n",
              "      <td>Tuesday</td>\n",
              "      <td>1</td>\n",
              "      <td>Clear</td>\n",
              "      <td>0.196364</td>\n",
              "      <td>0.189405</td>\n",
              "      <td>0.437273</td>\n",
              "      <td>0.248309</td>\n",
              "      <td>120</td>\n",
              "      <td>1229</td>\n",
              "      <td>1349</td>\n",
              "    </tr>\n",
              "    <tr>\n",
              "      <th>4</th>\n",
              "      <td>2011-01-04</td>\n",
              "      <td>1</td>\n",
              "      <td>0</td>\n",
              "      <td>1</td>\n",
              "      <td>0</td>\n",
              "      <td>Wednesday</td>\n",
              "      <td>1</td>\n",
              "      <td>Clear</td>\n",
              "      <td>0.200000</td>\n",
              "      <td>0.212122</td>\n",
              "      <td>0.590435</td>\n",
              "      <td>0.160296</td>\n",
              "      <td>108</td>\n",
              "      <td>1454</td>\n",
              "      <td>1562</td>\n",
              "    </tr>\n",
              "    <tr>\n",
              "      <th>5</th>\n",
              "      <td>2011-01-05</td>\n",
              "      <td>1</td>\n",
              "      <td>0</td>\n",
              "      <td>1</td>\n",
              "      <td>0</td>\n",
              "      <td>Thursday</td>\n",
              "      <td>1</td>\n",
              "      <td>Clear</td>\n",
              "      <td>0.226957</td>\n",
              "      <td>0.229270</td>\n",
              "      <td>0.436957</td>\n",
              "      <td>0.186900</td>\n",
              "      <td>82</td>\n",
              "      <td>1518</td>\n",
              "      <td>1600</td>\n",
              "    </tr>\n",
              "  </tbody>\n",
              "</table>\n",
              "</div>"
            ],
            "text/plain": [
              "             dteday  season  yr  mnth  ...  windspeed casual  registered   cnt\n",
              "instant                                ...                                    \n",
              "1        2011-01-01       1   0     1  ...   0.160446    331         654   985\n",
              "2        2011-01-02       1   0     1  ...   0.248539    131         670   801\n",
              "3        2011-01-03       1   0     1  ...   0.248309    120        1229  1349\n",
              "4        2011-01-04       1   0     1  ...   0.160296    108        1454  1562\n",
              "5        2011-01-05       1   0     1  ...   0.186900     82        1518  1600\n",
              "\n",
              "[5 rows x 15 columns]"
            ]
          },
          "metadata": {
            "tags": []
          },
          "execution_count": 48
        }
      ]
    },
    {
      "cell_type": "code",
      "metadata": {
        "colab": {
          "base_uri": "https://localhost:8080/"
        },
        "id": "HaLYI5zz5nUv",
        "outputId": "56fd0a92-5418-46da-ae75-2e3f831dda6a"
      },
      "source": [
        "day2_df.weekday.unique()"
      ],
      "execution_count": 49,
      "outputs": [
        {
          "output_type": "execute_result",
          "data": {
            "text/plain": [
              "array(['Sunday', 'Monday', 'Tuesday', 'Wednesday', 'Thursday', 'Friday',\n",
              "       'Saturday'], dtype=object)"
            ]
          },
          "metadata": {
            "tags": []
          },
          "execution_count": 49
        }
      ]
    },
    {
      "cell_type": "code",
      "metadata": {
        "colab": {
          "base_uri": "https://localhost:8080/"
        },
        "id": "BmXZwFIU5v-u",
        "outputId": "3b200922-e017-4601-ead2-91cb21d8d6e1"
      },
      "source": [
        "weekday_list = list(day2_df.weekday.unique())\n",
        "weekday_list"
      ],
      "execution_count": 50,
      "outputs": [
        {
          "output_type": "execute_result",
          "data": {
            "text/plain": [
              "['Sunday', 'Monday', 'Tuesday', 'Wednesday', 'Thursday', 'Friday', 'Saturday']"
            ]
          },
          "metadata": {
            "tags": []
          },
          "execution_count": 50
        }
      ]
    },
    {
      "cell_type": "code",
      "metadata": {
        "colab": {
          "base_uri": "https://localhost:8080/"
        },
        "id": "tFEwK_8i5zJ7",
        "outputId": "da10c520-ed20-4e3d-a476-db4793724207"
      },
      "source": [
        "from sklearn import preprocessing\n",
        "from sklearn.preprocessing import OneHotEncoder\n",
        "enc = preprocessing.OneHotEncoder(categories=[weekday_list])\n",
        "enc"
      ],
      "execution_count": 51,
      "outputs": [
        {
          "output_type": "execute_result",
          "data": {
            "text/plain": [
              "OneHotEncoder(categories=[['Sunday', 'Monday', 'Tuesday', 'Wednesday',\n",
              "                           'Thursday', 'Friday', 'Saturday']])"
            ]
          },
          "metadata": {
            "tags": []
          },
          "execution_count": 51
        }
      ]
    },
    {
      "cell_type": "code",
      "metadata": {
        "colab": {
          "base_uri": "https://localhost:8080/"
        },
        "id": "ms91cv5F5-gH",
        "outputId": "89943eef-2d21-47ac-9826-57a4561109c5"
      },
      "source": [
        "x = [['Sunday'], ['Monday'], ['Tuesday'], ['Wednesday'],\n",
        "                         ['Thursday'], ['Friday'], ['Saturday']]\n",
        "enc.fit(x)\n",
        "enc.transform(day2_df.weekday.values.reshape(-1,1))\n"
      ],
      "execution_count": 52,
      "outputs": [
        {
          "output_type": "execute_result",
          "data": {
            "text/plain": [
              "<731x7 sparse matrix of type '<class 'numpy.float64'>'\n",
              "\twith 731 stored elements in Compressed Sparse Row format>"
            ]
          },
          "metadata": {
            "tags": []
          },
          "execution_count": 52
        }
      ]
    },
    {
      "cell_type": "code",
      "metadata": {
        "colab": {
          "base_uri": "https://localhost:8080/",
          "height": 419
        },
        "id": "GMMduYqzcH-a",
        "outputId": "8beec62b-f687-4226-f3cc-5cd6a54b366a"
      },
      "source": [
        "pd.DataFrame.sparse.from_spmatrix(enc.transform(day2_df.weekday.values.reshape(-1,1)))"
      ],
      "execution_count": 53,
      "outputs": [
        {
          "output_type": "execute_result",
          "data": {
            "text/html": [
              "<div>\n",
              "<style scoped>\n",
              "    .dataframe tbody tr th:only-of-type {\n",
              "        vertical-align: middle;\n",
              "    }\n",
              "\n",
              "    .dataframe tbody tr th {\n",
              "        vertical-align: top;\n",
              "    }\n",
              "\n",
              "    .dataframe thead th {\n",
              "        text-align: right;\n",
              "    }\n",
              "</style>\n",
              "<table border=\"1\" class=\"dataframe\">\n",
              "  <thead>\n",
              "    <tr style=\"text-align: right;\">\n",
              "      <th></th>\n",
              "      <th>0</th>\n",
              "      <th>1</th>\n",
              "      <th>2</th>\n",
              "      <th>3</th>\n",
              "      <th>4</th>\n",
              "      <th>5</th>\n",
              "      <th>6</th>\n",
              "    </tr>\n",
              "  </thead>\n",
              "  <tbody>\n",
              "    <tr>\n",
              "      <th>0</th>\n",
              "      <td>1.0</td>\n",
              "      <td>0.0</td>\n",
              "      <td>0.0</td>\n",
              "      <td>0.0</td>\n",
              "      <td>0.0</td>\n",
              "      <td>0.0</td>\n",
              "      <td>0.0</td>\n",
              "    </tr>\n",
              "    <tr>\n",
              "      <th>1</th>\n",
              "      <td>0.0</td>\n",
              "      <td>1.0</td>\n",
              "      <td>0.0</td>\n",
              "      <td>0.0</td>\n",
              "      <td>0.0</td>\n",
              "      <td>0.0</td>\n",
              "      <td>0.0</td>\n",
              "    </tr>\n",
              "    <tr>\n",
              "      <th>2</th>\n",
              "      <td>0.0</td>\n",
              "      <td>0.0</td>\n",
              "      <td>1.0</td>\n",
              "      <td>0.0</td>\n",
              "      <td>0.0</td>\n",
              "      <td>0.0</td>\n",
              "      <td>0.0</td>\n",
              "    </tr>\n",
              "    <tr>\n",
              "      <th>3</th>\n",
              "      <td>0.0</td>\n",
              "      <td>0.0</td>\n",
              "      <td>0.0</td>\n",
              "      <td>1.0</td>\n",
              "      <td>0.0</td>\n",
              "      <td>0.0</td>\n",
              "      <td>0.0</td>\n",
              "    </tr>\n",
              "    <tr>\n",
              "      <th>4</th>\n",
              "      <td>0.0</td>\n",
              "      <td>0.0</td>\n",
              "      <td>0.0</td>\n",
              "      <td>0.0</td>\n",
              "      <td>1.0</td>\n",
              "      <td>0.0</td>\n",
              "      <td>0.0</td>\n",
              "    </tr>\n",
              "    <tr>\n",
              "      <th>...</th>\n",
              "      <td>...</td>\n",
              "      <td>...</td>\n",
              "      <td>...</td>\n",
              "      <td>...</td>\n",
              "      <td>...</td>\n",
              "      <td>...</td>\n",
              "      <td>...</td>\n",
              "    </tr>\n",
              "    <tr>\n",
              "      <th>726</th>\n",
              "      <td>0.0</td>\n",
              "      <td>0.0</td>\n",
              "      <td>0.0</td>\n",
              "      <td>0.0</td>\n",
              "      <td>0.0</td>\n",
              "      <td>1.0</td>\n",
              "      <td>0.0</td>\n",
              "    </tr>\n",
              "    <tr>\n",
              "      <th>727</th>\n",
              "      <td>0.0</td>\n",
              "      <td>0.0</td>\n",
              "      <td>0.0</td>\n",
              "      <td>0.0</td>\n",
              "      <td>0.0</td>\n",
              "      <td>0.0</td>\n",
              "      <td>1.0</td>\n",
              "    </tr>\n",
              "    <tr>\n",
              "      <th>728</th>\n",
              "      <td>1.0</td>\n",
              "      <td>0.0</td>\n",
              "      <td>0.0</td>\n",
              "      <td>0.0</td>\n",
              "      <td>0.0</td>\n",
              "      <td>0.0</td>\n",
              "      <td>0.0</td>\n",
              "    </tr>\n",
              "    <tr>\n",
              "      <th>729</th>\n",
              "      <td>0.0</td>\n",
              "      <td>1.0</td>\n",
              "      <td>0.0</td>\n",
              "      <td>0.0</td>\n",
              "      <td>0.0</td>\n",
              "      <td>0.0</td>\n",
              "      <td>0.0</td>\n",
              "    </tr>\n",
              "    <tr>\n",
              "      <th>730</th>\n",
              "      <td>0.0</td>\n",
              "      <td>0.0</td>\n",
              "      <td>1.0</td>\n",
              "      <td>0.0</td>\n",
              "      <td>0.0</td>\n",
              "      <td>0.0</td>\n",
              "      <td>0.0</td>\n",
              "    </tr>\n",
              "  </tbody>\n",
              "</table>\n",
              "<p>731 rows × 7 columns</p>\n",
              "</div>"
            ],
            "text/plain": [
              "       0    1    2    3    4    5    6\n",
              "0    1.0  0.0  0.0  0.0  0.0  0.0  0.0\n",
              "1    0.0  1.0  0.0  0.0  0.0  0.0  0.0\n",
              "2    0.0  0.0  1.0  0.0  0.0  0.0  0.0\n",
              "3    0.0  0.0  0.0  1.0  0.0  0.0  0.0\n",
              "4    0.0  0.0  0.0  0.0  1.0  0.0  0.0\n",
              "..   ...  ...  ...  ...  ...  ...  ...\n",
              "726  0.0  0.0  0.0  0.0  0.0  1.0  0.0\n",
              "727  0.0  0.0  0.0  0.0  0.0  0.0  1.0\n",
              "728  1.0  0.0  0.0  0.0  0.0  0.0  0.0\n",
              "729  0.0  1.0  0.0  0.0  0.0  0.0  0.0\n",
              "730  0.0  0.0  1.0  0.0  0.0  0.0  0.0\n",
              "\n",
              "[731 rows x 7 columns]"
            ]
          },
          "metadata": {
            "tags": []
          },
          "execution_count": 53
        }
      ]
    },
    {
      "cell_type": "code",
      "metadata": {
        "colab": {
          "base_uri": "https://localhost:8080/"
        },
        "id": "FsBozc27cUpe",
        "outputId": "3629aa41-b40d-4e22-dc63-f48b118a74ff"
      },
      "source": [
        "Y = day2_df[['cnt']]\n",
        "X_enc = enc.transform(day2_df.weekday.values.reshape(-1,1))\n",
        "\n",
        "X_enc_train, X_enc_test, y_train, y_test = train_test_split(X_enc, Y, test_size=0.25, random_state=1)\n",
        "\n",
        "# training\n",
        "model = linear_module.LinearRegression()\n",
        "reg = model.fit(X_enc_train, y_train)\n",
        "print(\"intercept\", reg.intercept_)\n",
        "print(\"slope\", reg.coef_)"
      ],
      "execution_count": 54,
      "outputs": [
        {
          "output_type": "stream",
          "text": [
            "intercept [4625.01617624]\n",
            "slope [[ 118.66383386 -239.20665285 -150.79524983  -51.42641743   24.8463078\n",
            "   129.116178    168.80200046]]\n"
          ],
          "name": "stdout"
        }
      ]
    },
    {
      "cell_type": "code",
      "metadata": {
        "colab": {
          "base_uri": "https://localhost:8080/"
        },
        "id": "FqPRqdUWchzc",
        "outputId": "4e8b023b-7f92-446e-dfb7-d7c914dca795"
      },
      "source": [
        "y_train_predict = reg.predict(X_enc_train)\n",
        "regression_test_rse = math.sqrt(mean_squared_error(y_train_predict, y_train))\n",
        "\n",
        "r2_score(y_train, y_train_predict)"
      ],
      "execution_count": 55,
      "outputs": [
        {
          "output_type": "execute_result",
          "data": {
            "text/plain": [
              "0.005699361020349847"
            ]
          },
          "metadata": {
            "tags": []
          },
          "execution_count": 55
        }
      ]
    },
    {
      "cell_type": "code",
      "metadata": {
        "colab": {
          "base_uri": "https://localhost:8080/"
        },
        "id": "KWzd-5Khc0R1",
        "outputId": "d8c9283a-01d9-4e74-b08c-ce8f458e975e"
      },
      "source": [
        "#test\n",
        "y_predict = reg.predict(X_enc_test)\n",
        "regression_test_rse = math.sqrt(mean_squared_error(y_predict, y_test))\n",
        "r2_score_test=r2_score(y_test, y_predict)\n",
        "r2_score_test"
      ],
      "execution_count": 56,
      "outputs": [
        {
          "output_type": "execute_result",
          "data": {
            "text/plain": [
              "-0.046411662811659316"
            ]
          },
          "metadata": {
            "tags": []
          },
          "execution_count": 56
        }
      ]
    },
    {
      "cell_type": "code",
      "metadata": {
        "colab": {
          "base_uri": "https://localhost:8080/"
        },
        "id": "WbgG8MrqeDsp",
        "outputId": "ae1ac088-c949-47d8-c67b-b26c1125a417"
      },
      "source": [
        "#Ridge Regression\n",
        "day2_df.columns"
      ],
      "execution_count": 57,
      "outputs": [
        {
          "output_type": "execute_result",
          "data": {
            "text/plain": [
              "Index(['dteday', 'season', 'yr', 'mnth', 'holiday', 'weekday', 'workingday',\n",
              "       'weathersit', 'temp', 'atemp', 'hum', 'windspeed', 'casual',\n",
              "       'registered', 'cnt'],\n",
              "      dtype='object')"
            ]
          },
          "metadata": {
            "tags": []
          },
          "execution_count": 57
        }
      ]
    },
    {
      "cell_type": "code",
      "metadata": {
        "colab": {
          "base_uri": "https://localhost:8080/"
        },
        "id": "2StsnXg7eo7T",
        "outputId": "b0f22043-7113-483a-e301-82fe82d30ac6"
      },
      "source": [
        "from sklearn.linear_model import Ridge\n",
        "Y = df[['cnt']]\n",
        "X = df[['season', 'weekday','weathersit', 'temp', 'hum',\n",
        "       'windspeed', 'registered']]\n",
        "\n",
        "X_train, X_test, y_train, y_test = train_test_split(X, Y, test_size=0.25, random_state=1)\n",
        "\n",
        "\n",
        "regressor = Ridge(alpha=0.5)\n",
        "regressor.fit(X_train,y_train)\n",
        "y_predict = regressor.predict(X_test)\n",
        "regression_model_mse = mean_squared_error(y_predict, y_test)\n",
        "regression_test_rse = math.sqrt(mean_squared_error(y_predict, y_test))\n",
        "\n",
        "r2_score(y_test, y_predict)"
      ],
      "execution_count": 58,
      "outputs": [
        {
          "output_type": "execute_result",
          "data": {
            "text/plain": [
              "0.9568697233014116"
            ]
          },
          "metadata": {
            "tags": []
          },
          "execution_count": 58
        }
      ]
    },
    {
      "cell_type": "code",
      "metadata": {
        "colab": {
          "base_uri": "https://localhost:8080/"
        },
        "id": "y5bRMF64fKWu",
        "outputId": "bbce4529-234a-4c92-eafc-d00f051e6e3b"
      },
      "source": [
        "reg.intercept_"
      ],
      "execution_count": 59,
      "outputs": [
        {
          "output_type": "execute_result",
          "data": {
            "text/plain": [
              "array([4625.01617624])"
            ]
          },
          "metadata": {
            "tags": []
          },
          "execution_count": 59
        }
      ]
    },
    {
      "cell_type": "code",
      "metadata": {
        "colab": {
          "base_uri": "https://localhost:8080/"
        },
        "id": "vdDLk-JDfNft",
        "outputId": "9b7f11e4-d7b0-4a11-d8f4-72e30d065188"
      },
      "source": [
        "reg.coef_"
      ],
      "execution_count": 60,
      "outputs": [
        {
          "output_type": "execute_result",
          "data": {
            "text/plain": [
              "array([[ 118.66383386, -239.20665285, -150.79524983,  -51.42641743,\n",
              "          24.8463078 ,  129.116178  ,  168.80200046]])"
            ]
          },
          "metadata": {
            "tags": []
          },
          "execution_count": 60
        }
      ]
    },
    {
      "cell_type": "code",
      "metadata": {
        "colab": {
          "base_uri": "https://localhost:8080/"
        },
        "id": "dx9w9x5_fQg0",
        "outputId": "f9994822-29ca-4e6a-984c-7bbc685707cc"
      },
      "source": [
        "#Ridge and Cross-Validation with multiple alphas\n",
        "from sklearn.linear_model import RidgeCV\n",
        "\n",
        "Y = df[['cnt']]\n",
        "X = df[['season', 'weekday','weathersit', 'temp', 'hum',\n",
        "       'windspeed', 'registered']]\n",
        "\n",
        "X_train, X_test, y_train, y_test = train_test_split(X, Y, test_size=0.25, random_state=1)\n",
        "\n",
        "\n",
        "ridge_regressor = RidgeCV(cv=5, alphas = [0.01,0.1, 0.5])\n",
        "ridge_regressor.fit(X_train,y_train)\n",
        "y_predict = ridge_regressor.predict(X_test)\n",
        "regression_model_mse = mean_squared_error(y_predict, y_test)\n",
        "regression_test_rse = math.sqrt(mean_squared_error(y_predict, y_test))\n",
        "\n",
        "r2_score(y_test, y_predict)"
      ],
      "execution_count": 61,
      "outputs": [
        {
          "output_type": "execute_result",
          "data": {
            "text/plain": [
              "0.9568684891716982"
            ]
          },
          "metadata": {
            "tags": []
          },
          "execution_count": 61
        }
      ]
    },
    {
      "cell_type": "code",
      "metadata": {
        "colab": {
          "base_uri": "https://localhost:8080/"
        },
        "id": "KfCRhiaHfuyl",
        "outputId": "95c44ca7-42ea-4b35-da33-61bb8bd81aae"
      },
      "source": [
        "ridge_regressor.alpha_"
      ],
      "execution_count": 62,
      "outputs": [
        {
          "output_type": "execute_result",
          "data": {
            "text/plain": [
              "0.1"
            ]
          },
          "metadata": {
            "tags": []
          },
          "execution_count": 62
        }
      ]
    },
    {
      "cell_type": "code",
      "metadata": {
        "colab": {
          "base_uri": "https://localhost:8080/"
        },
        "id": "M2-7F3fYfyBL",
        "outputId": "d8256812-e4eb-4343-ce00-79b341753838"
      },
      "source": [
        "#Lasso Regression\n",
        "from sklearn.linear_model import LassoCV\n",
        "lasso_regressor = LassoCV(alphas=[0.001, 0.01, 0.1, 0.25, 0.5, 0.75, 1, 5, 10, 50, 100, 1000 ])\n",
        "lasso_regressor.fit(X_train,y_train)\n",
        "y_predict = lasso_regressor.predict(X_test)\n",
        "regression_model_mse = mean_squared_error(y_predict, y_test)\n",
        "regression_test_rse = math.sqrt(mean_squared_error(y_predict, y_test))\n",
        "\n",
        "r2_score(y_test, y_predict)"
      ],
      "execution_count": 63,
      "outputs": [
        {
          "output_type": "stream",
          "text": [
            "/usr/local/lib/python3.7/dist-packages/sklearn/utils/validation.py:63: DataConversionWarning: A column-vector y was passed when a 1d array was expected. Please change the shape of y to (n_samples, ), for example using ravel().\n",
            "  return f(*args, **kwargs)\n"
          ],
          "name": "stderr"
        },
        {
          "output_type": "execute_result",
          "data": {
            "text/plain": [
              "0.9568761339945447"
            ]
          },
          "metadata": {
            "tags": []
          },
          "execution_count": 63
        }
      ]
    },
    {
      "cell_type": "code",
      "metadata": {
        "colab": {
          "base_uri": "https://localhost:8080/"
        },
        "id": "sX_dUXbYf3sw",
        "outputId": "376f9ea9-342b-4b6e-bb79-eecd672de3ea"
      },
      "source": [
        "lasso_regressor.alpha_"
      ],
      "execution_count": 64,
      "outputs": [
        {
          "output_type": "execute_result",
          "data": {
            "text/plain": [
              "0.01"
            ]
          },
          "metadata": {
            "tags": []
          },
          "execution_count": 64
        }
      ]
    },
    {
      "cell_type": "code",
      "metadata": {
        "colab": {
          "base_uri": "https://localhost:8080/"
        },
        "id": "-ra0d85zgA-_",
        "outputId": "9ddf9623-849c-474f-f7c5-b525ccc6a6ab"
      },
      "source": [
        "lasso_regressor.coef_"
      ],
      "execution_count": 65,
      "outputs": [
        {
          "output_type": "execute_result",
          "data": {
            "text/plain": [
              "array([ -0.19520238,   0.33359009,   1.82934338,  86.75346872,\n",
              "       -62.12339042,  -0.64023752,   1.10931703])"
            ]
          },
          "metadata": {
            "tags": []
          },
          "execution_count": 65
        }
      ]
    },
    {
      "cell_type": "code",
      "metadata": {
        "colab": {
          "base_uri": "https://localhost:8080/"
        },
        "id": "H3mZojkGCj-c",
        "outputId": "fe183d10-6b15-42d2-a0ab-027adc3e12ff"
      },
      "source": [
        "!pip show scikit-learn"
      ],
      "execution_count": 152,
      "outputs": [
        {
          "output_type": "stream",
          "text": [
            "Name: scikit-learn\n",
            "Version: 0.22.2.post1\n",
            "Summary: A set of python modules for machine learning and data mining\n",
            "Home-page: http://scikit-learn.org\n",
            "Author: None\n",
            "Author-email: None\n",
            "License: new BSD\n",
            "Location: /usr/local/lib/python3.7/dist-packages\n",
            "Requires: numpy, joblib, scipy\n",
            "Required-by: yellowbrick, sklearn, sklearn-pandas, mlxtend, lightgbm, librosa, imbalanced-learn\n"
          ],
          "name": "stdout"
        }
      ]
    },
    {
      "cell_type": "code",
      "metadata": {
        "id": "6A6C-YWgDFHY"
      },
      "source": [
        "from sklearn.preprocessing import MinMaxScaler\n",
        "\n",
        "min_max_scaler = preprocessing.MinMaxScaler()\n",
        "Y = df[['cnt']]\n",
        "X_unscaled = df[['season', 'mnth', 'weekday', 'workingday', 'weathersit', 'temp', 'hum', 'windspeed']]\n",
        "\n",
        "X = min_max_scaler.fit_transform(X_unscaled)\n",
        "\n",
        "X_train, X_test, y_train, y_test = train_test_split(X, Y, test_size=0.25, random_state=1)"
      ],
      "execution_count": 66,
      "outputs": []
    },
    {
      "cell_type": "code",
      "metadata": {
        "id": "qAYaCrs1EdOy"
      },
      "source": [
        ""
      ],
      "execution_count": 72,
      "outputs": []
    },
    {
      "cell_type": "code",
      "metadata": {
        "colab": {
          "base_uri": "https://localhost:8080/"
        },
        "id": "RX3n_CeXEzKD",
        "outputId": "97ec95d6-700a-4ea8-8bc2-0d8c4d65170d"
      },
      "source": [
        "import sklearn\n",
        "print(sklearn.__version__)"
      ],
      "execution_count": 154,
      "outputs": [
        {
          "output_type": "stream",
          "text": [
            "0.22.2.post1\n"
          ],
          "name": "stdout"
        }
      ]
    },
    {
      "cell_type": "code",
      "metadata": {
        "colab": {
          "base_uri": "https://localhost:8080/",
          "height": 327
        },
        "id": "6iOF9qUfFaKs",
        "outputId": "c1532026-89ee-44a9-82e0-0318cbcfec87"
      },
      "source": [
        "# If scikit version is lower then 0.24\n",
        "!pip uninstall scikit-learn -y\n",
        "\n",
        "!pip install -U scikit-learn"
      ],
      "execution_count": 155,
      "outputs": [
        {
          "output_type": "stream",
          "text": [
            "Uninstalling scikit-learn-0.22.2.post1:\n",
            "  Successfully uninstalled scikit-learn-0.22.2.post1\n",
            "Collecting scikit-learn\n",
            "\u001b[?25l  Downloading https://files.pythonhosted.org/packages/a8/eb/a48f25c967526b66d5f1fa7a984594f0bf0a5afafa94a8c4dbc317744620/scikit_learn-0.24.2-cp37-cp37m-manylinux2010_x86_64.whl (22.3MB)\n",
            "\u001b[K     |████████████████████████████████| 22.3MB 1.4MB/s \n",
            "\u001b[?25hRequirement already satisfied, skipping upgrade: scipy>=0.19.1 in /usr/local/lib/python3.7/dist-packages (from scikit-learn) (1.4.1)\n",
            "Requirement already satisfied, skipping upgrade: joblib>=0.11 in /usr/local/lib/python3.7/dist-packages (from scikit-learn) (1.0.1)\n",
            "Requirement already satisfied, skipping upgrade: numpy>=1.13.3 in /usr/local/lib/python3.7/dist-packages (from scikit-learn) (1.19.5)\n",
            "Collecting threadpoolctl>=2.0.0\n",
            "  Downloading https://files.pythonhosted.org/packages/f7/12/ec3f2e203afa394a149911729357aa48affc59c20e2c1c8297a60f33f133/threadpoolctl-2.1.0-py3-none-any.whl\n",
            "Installing collected packages: threadpoolctl, scikit-learn\n",
            "Successfully installed scikit-learn-0.24.2 threadpoolctl-2.1.0\n"
          ],
          "name": "stdout"
        },
        {
          "output_type": "display_data",
          "data": {
            "application/vnd.colab-display-data+json": {
              "pip_warning": {
                "packages": [
                  "sklearn"
                ]
              }
            }
          },
          "metadata": {
            "tags": []
          }
        }
      ]
    },
    {
      "cell_type": "code",
      "metadata": {
        "colab": {
          "base_uri": "https://localhost:8080/"
        },
        "id": "Ab3ZSJJcFrhW",
        "outputId": "85588329-6e9b-4f3e-b35b-eb6ca8ba7dfb"
      },
      "source": [
        "from sklearn.feature_selection import SequentialFeatureSelector\n",
        "from time import time\n",
        "\n",
        "model = linear_module.LinearRegression()\n",
        "reg = model.fit(X_train, y_train)\n",
        "\n",
        "tic_fwd = time()\n",
        "sfs_forward = SequentialFeatureSelector(reg, n_features_to_select=2,\n",
        "                                        direction='forward').fit(X_train, y_train)\n",
        "toc_fwd = time()\n",
        "\n",
        "tic_bwd = time()\n",
        "sfs_backward = SequentialFeatureSelector(reg,\n",
        "                                         direction='backward').fit(X_train, y_train)\n",
        "toc_bwd = time()\n",
        "\n",
        "sfs_forward.get_support()\n",
        "toc_fwd = time()\n",
        "print(toc_fwd)\n",
        "print(tic_bwd)"
      ],
      "execution_count": 67,
      "outputs": [
        {
          "output_type": "stream",
          "text": [
            "1622769165.1849787\n",
            "1622769164.3383906\n"
          ],
          "name": "stdout"
        }
      ]
    },
    {
      "cell_type": "code",
      "metadata": {
        "colab": {
          "base_uri": "https://localhost:8080/"
        },
        "id": "jm5lAFQzGw8n",
        "outputId": "fa9330c4-cf51-4150-bd2d-de157700b6ed"
      },
      "source": [
        "X_unscaled.columns[sfs_forward.get_support()]"
      ],
      "execution_count": 68,
      "outputs": [
        {
          "output_type": "execute_result",
          "data": {
            "text/plain": [
              "Index(['temp', 'hum'], dtype='object')"
            ]
          },
          "metadata": {
            "tags": []
          },
          "execution_count": 68
        }
      ]
    },
    {
      "cell_type": "code",
      "metadata": {
        "colab": {
          "base_uri": "https://localhost:8080/"
        },
        "id": "nYvWpHUMG0aA",
        "outputId": "4d496e61-0ea0-415c-e120-8ae0197ec787"
      },
      "source": [
        "sfs_forward.get_params()"
      ],
      "execution_count": 69,
      "outputs": [
        {
          "output_type": "execute_result",
          "data": {
            "text/plain": [
              "{'cv': 5,\n",
              " 'direction': 'forward',\n",
              " 'estimator': LinearRegression(),\n",
              " 'estimator__copy_X': True,\n",
              " 'estimator__fit_intercept': True,\n",
              " 'estimator__n_jobs': None,\n",
              " 'estimator__normalize': False,\n",
              " 'estimator__positive': False,\n",
              " 'n_features_to_select': 2,\n",
              " 'n_jobs': None,\n",
              " 'scoring': None}"
            ]
          },
          "metadata": {
            "tags": []
          },
          "execution_count": 69
        }
      ]
    },
    {
      "cell_type": "code",
      "metadata": {
        "colab": {
          "base_uri": "https://localhost:8080/"
        },
        "id": "EsNQzHRfG49n",
        "outputId": "f871ae79-60ae-4331-bf79-ba3a43f7be3f"
      },
      "source": [
        "X_train[0:5]"
      ],
      "execution_count": 70,
      "outputs": [
        {
          "output_type": "execute_result",
          "data": {
            "text/plain": [
              "array([[1.        , 1.        , 0.16666667, 1.        , 0.33333333,\n",
              "        0.32653061, 0.93      , 0.        ],\n",
              "       [0.66666667, 0.54545455, 0.83333333, 1.        , 0.        ,\n",
              "        0.63265306, 0.65      , 0.12284001],\n",
              "       [0.33333333, 0.45454545, 0.66666667, 1.        , 0.33333333,\n",
              "        0.71428571, 0.84      , 0.12284001],\n",
              "       [0.66666667, 0.72727273, 0.66666667, 1.        , 0.        ,\n",
              "        0.63265306, 0.65      , 0.15786999],\n",
              "       [1.        , 0.90909091, 0.5       , 1.        , 0.33333333,\n",
              "        0.44897959, 0.94      , 0.12284001]])"
            ]
          },
          "metadata": {
            "tags": []
          },
          "execution_count": 70
        }
      ]
    },
    {
      "cell_type": "code",
      "metadata": {
        "colab": {
          "base_uri": "https://localhost:8080/"
        },
        "id": "EoDA8R8TG-RF",
        "outputId": "f83abfa2-c5a8-42e5-db22-d90188cfc8c1"
      },
      "source": [
        "y_predict = sfs_backward.estimator.predict(X_test)\n",
        "regression_test_rse = math.sqrt(mean_squared_error(y_predict, y_test))\n",
        "\n",
        "from sklearn.metrics import r2_score\n",
        "r2_score(y_test, y_predict)"
      ],
      "execution_count": 71,
      "outputs": [
        {
          "output_type": "execute_result",
          "data": {
            "text/plain": [
              "0.26563255885748227"
            ]
          },
          "metadata": {
            "tags": []
          },
          "execution_count": 71
        }
      ]
    },
    {
      "cell_type": "code",
      "metadata": {
        "id": "-IbWqLQPG-Sd"
      },
      "source": [
        ""
      ],
      "execution_count": null,
      "outputs": []
    }
  ]
}